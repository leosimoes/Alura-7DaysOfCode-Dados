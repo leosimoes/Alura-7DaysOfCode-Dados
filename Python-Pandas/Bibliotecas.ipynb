{
 "cells": [
  {
   "cell_type": "markdown",
   "metadata": {},
   "source": [
    "# Alura - 7 Days of Code - Dados - Machine Learning\n",
    "\n",
    "![7DayOfCode-Logo](../imgs/7DaysOfCode-Logo.jpg)\n",
    "\n",
    "Autor: Leonardo Simões"
   ]
  },
  {
   "cell_type": "markdown",
   "metadata": {},
   "source": [
    "---\n",
    "## Sumário\n",
    "- [1.Introdução](#introduction)\n",
    "- [2.Objetivo](#objectives)\n",
    "- [3.Desenvolvimento](#development)\n",
    "- [3.1.Dia 1](#day_1)\n",
    "- [3.2.Dia 2](#day_2)\n",
    "- [3.3.Dia 3](#day_3)\n",
    "- [3.4.Dia 4](#day_4)\n",
    "- [4.Conclusão](#conclusion)\n",
    "- [Referências](#references)"
   ]
  },
  {
   "cell_type": "markdown",
   "metadata": {},
   "source": [
    "---\n",
    "<a id='introduction'></a>\n",
    "## 1. Introdução\n",
    "\n",
    "Durante os 7 Days de Python Pandas, você vai treinar suas habilidades de manipulação, visualização e análise de dados utilizando Python Pandas.\n"
   ]
  },
  {
   "cell_type": "markdown",
   "metadata": {},
   "source": [
    "---\n",
    "<a id='objectives'></a>\n",
    "## 2. Objetivo\n",
    "\n",
    "O objetivo será explorar os dados de empréstimos dos acervos do sistema de bibliotecas da UFRN e, para isso, você passará por diversas funcionalidades que o Pandas pode oferecer, desde a importação de diversos formatos de dados, agregações, divisões e transformações de tabelas, e até a exportação de tabelas estilizadas com sua análise pronta para ser inserida em alguma aplicação."
   ]
  },
  {
   "cell_type": "markdown",
   "metadata": {},
   "source": [
    "---\n",
    "<a id='development'></a>\n",
    "## 3. Desenvolvimento"
   ]
  },
  {
   "cell_type": "markdown",
   "source": [
    "---\n",
    "<a id='day_1'></a>\n",
    "### 3.1. Dia 1"
   ],
   "metadata": {
    "collapsed": false
   }
  },
  {
   "cell_type": "code",
   "execution_count": 1,
   "metadata": {
    "ExecuteTime": {
     "end_time": "2023-10-23T20:15:34.279519900Z",
     "start_time": "2023-10-23T20:15:34.267517500Z"
    }
   },
   "outputs": [
    {
     "name": "stdout",
     "output_type": "stream",
     "text": [
      "Versão do Python:  3.11.2\n"
     ]
    }
   ],
   "source": [
    "# Verificação da versão do Python\n",
    "from platform import python_version\n",
    "print('Versão do Python: ', python_version())"
   ]
  },
  {
   "cell_type": "code",
   "execution_count": 2,
   "metadata": {
    "ExecuteTime": {
     "end_time": "2023-10-23T20:15:34.289599100Z",
     "start_time": "2023-10-23T20:15:34.279519900Z"
    }
   },
   "outputs": [],
   "source": [
    "# Imports das bibliotecas mais usadas\n",
    "import os\n",
    "import glob\n",
    "import pandas as pd"
   ]
  },
  {
   "cell_type": "code",
   "execution_count": 3,
   "outputs": [],
   "source": [
    "# Imports das bibliotecas de visualizações\n",
    "import matplotlib as mpl\n",
    "import matplotlib.pyplot as plt\n",
    "import seaborn as sns\n",
    "\n",
    "%matplotlib inline"
   ],
   "metadata": {
    "collapsed": false,
    "ExecuteTime": {
     "end_time": "2023-10-23T20:15:34.446658100Z",
     "start_time": "2023-10-23T20:15:34.289599100Z"
    }
   }
  },
  {
   "cell_type": "code",
   "execution_count": 4,
   "metadata": {
    "ExecuteTime": {
     "end_time": "2023-10-23T20:15:34.470364600Z",
     "start_time": "2023-10-23T20:15:34.422698700Z"
    }
   },
   "outputs": [],
   "source": [
    "# Alterar a exibição de float para duas casas decimais\n",
    "pd.options.display.float_format = '{:.2f}'.format"
   ]
  },
  {
   "cell_type": "code",
   "execution_count": 5,
   "metadata": {
    "ExecuteTime": {
     "end_time": "2023-10-23T20:15:34.470364600Z",
     "start_time": "2023-10-23T20:15:34.430528600Z"
    }
   },
   "outputs": [
    {
     "name": "stdout",
     "output_type": "stream",
     "text": [
      "Pandas versão 1.5.3\n"
     ]
    }
   ],
   "source": [
    "# Versões das bibliotecas mais usadas\n",
    "print('Pandas versão ' + pd.__version__)"
   ]
  },
  {
   "cell_type": "code",
   "execution_count": 6,
   "outputs": [],
   "source": [
    "# Função para carregar os dados de todos os arquivos csv de uma pasta\n",
    "def carregar_dados_csv(pasta = 'dados'):\n",
    "    \n",
    "    # Obtenha a lista de arquivos CSV na pasta\n",
    "    arquivos_csv = glob.glob(os.path.join(pasta, '*.csv'))\n",
    "\n",
    "    # Verifique o caminho completo para a pasta\n",
    "    # caminho_completo = os.path.join(os.getcwd(), pasta)\n",
    "    \n",
    "    # Obtenha a lista de arquivos CSV na pasta\n",
    "    # arquivos_csv = glob.glob(os.path.join(caminho_completo, '*.csv'))\n",
    "    \n",
    "    # Verifique se existem arquivos CSV na pasta\n",
    "    if not arquivos_csv:\n",
    "        print(\"Nenhum arquivo CSV encontrado na pasta.\")\n",
    "        # print(f\"Nenhum arquivo CSV encontrado na pasta {caminho_completo}.\")\n",
    "        \n",
    "        return None\n",
    "    else:\n",
    "        # Carregue o primeiro arquivo CSV em um DataFrame inicial\n",
    "        df = pd.read_csv(arquivos_csv[0])\n",
    "        \n",
    "        # Itere sobre os demais arquivos CSV e concatene-os no DataFrame inicial\n",
    "        for arquivo in arquivos_csv[1:]:\n",
    "            df_temp = pd.read_csv(arquivo)\n",
    "            df = pd.concat([df, df_temp], ignore_index=True)\n",
    "        \n",
    "        # Remove valores duplicados\n",
    "        df.drop_duplicates(inplace=True)\n",
    "        assert df.duplicated().sum() == 0\n",
    "\n",
    "        return df"
   ],
   "metadata": {
    "collapsed": false,
    "ExecuteTime": {
     "end_time": "2023-10-23T20:15:34.494367300Z",
     "start_time": "2023-10-23T20:15:34.453840200Z"
    }
   }
  },
  {
   "cell_type": "code",
   "execution_count": 7,
   "outputs": [
    {
     "data": {
      "text/plain": "   id_emprestimo codigo_barras                 data_renovacao  \\\n0         709684       L095049                            NaN   \n1         709685       L167050                            NaN   \n2         709686    2006017618  2010/01/26 08:07:01.738000000   \n3         709687       L184117  2010/01/18 11:07:46.470000000   \n8         709688    2007027500  2010/01/19 15:59:26.464000000   \n\n                 data_emprestimo                 data_devolucao  \\\n0  2010/01/04 07:44:10.721000000  2010/01/05 16:26:12.662000000   \n1  2010/01/04 07:44:10.750000000  2010/01/12 07:34:13.934000000   \n2  2010/01/04 08:08:44.081000000  2010/02/25 07:36:25.800000000   \n3  2010/01/04 08:24:21.284000000  2010/02/03 08:58:45.692000000   \n8  2010/01/04 08:27:33.569000000  2010/02/03 13:06:30.662000000   \n\n   matricula_ou_siape    tipo_vinculo_usuario  \n0       2008023265.00      ALUNO DE GRADUAÇÃO  \n1       2008023265.00      ALUNO DE GRADUAÇÃO  \n2       2008112114.00  ALUNO DE PÓS-GRADUAÇÃO  \n3        200721119.00      ALUNO DE GRADUAÇÃO  \n8       2009045971.00      ALUNO DE GRADUAÇÃO  ",
      "text/html": "<div>\n<style scoped>\n    .dataframe tbody tr th:only-of-type {\n        vertical-align: middle;\n    }\n\n    .dataframe tbody tr th {\n        vertical-align: top;\n    }\n\n    .dataframe thead th {\n        text-align: right;\n    }\n</style>\n<table border=\"1\" class=\"dataframe\">\n  <thead>\n    <tr style=\"text-align: right;\">\n      <th></th>\n      <th>id_emprestimo</th>\n      <th>codigo_barras</th>\n      <th>data_renovacao</th>\n      <th>data_emprestimo</th>\n      <th>data_devolucao</th>\n      <th>matricula_ou_siape</th>\n      <th>tipo_vinculo_usuario</th>\n    </tr>\n  </thead>\n  <tbody>\n    <tr>\n      <th>0</th>\n      <td>709684</td>\n      <td>L095049</td>\n      <td>NaN</td>\n      <td>2010/01/04 07:44:10.721000000</td>\n      <td>2010/01/05 16:26:12.662000000</td>\n      <td>2008023265.00</td>\n      <td>ALUNO DE GRADUAÇÃO</td>\n    </tr>\n    <tr>\n      <th>1</th>\n      <td>709685</td>\n      <td>L167050</td>\n      <td>NaN</td>\n      <td>2010/01/04 07:44:10.750000000</td>\n      <td>2010/01/12 07:34:13.934000000</td>\n      <td>2008023265.00</td>\n      <td>ALUNO DE GRADUAÇÃO</td>\n    </tr>\n    <tr>\n      <th>2</th>\n      <td>709686</td>\n      <td>2006017618</td>\n      <td>2010/01/26 08:07:01.738000000</td>\n      <td>2010/01/04 08:08:44.081000000</td>\n      <td>2010/02/25 07:36:25.800000000</td>\n      <td>2008112114.00</td>\n      <td>ALUNO DE PÓS-GRADUAÇÃO</td>\n    </tr>\n    <tr>\n      <th>3</th>\n      <td>709687</td>\n      <td>L184117</td>\n      <td>2010/01/18 11:07:46.470000000</td>\n      <td>2010/01/04 08:24:21.284000000</td>\n      <td>2010/02/03 08:58:45.692000000</td>\n      <td>200721119.00</td>\n      <td>ALUNO DE GRADUAÇÃO</td>\n    </tr>\n    <tr>\n      <th>8</th>\n      <td>709688</td>\n      <td>2007027500</td>\n      <td>2010/01/19 15:59:26.464000000</td>\n      <td>2010/01/04 08:27:33.569000000</td>\n      <td>2010/02/03 13:06:30.662000000</td>\n      <td>2009045971.00</td>\n      <td>ALUNO DE GRADUAÇÃO</td>\n    </tr>\n  </tbody>\n</table>\n</div>"
     },
     "execution_count": 7,
     "metadata": {},
     "output_type": "execute_result"
    }
   ],
   "source": [
    "# Carrega os dados de todos os arquivos csv de uma pasta em um único dataframe\n",
    "df1 = carregar_dados_csv()\n",
    "df1.head()"
   ],
   "metadata": {
    "collapsed": false,
    "ExecuteTime": {
     "end_time": "2023-10-23T20:16:01.590202300Z",
     "start_time": "2023-10-23T20:15:34.458366600Z"
    }
   }
  },
  {
   "cell_type": "code",
   "execution_count": 8,
   "outputs": [
    {
     "data": {
      "text/plain": "(2257981, 7)"
     },
     "execution_count": 8,
     "metadata": {},
     "output_type": "execute_result"
    }
   ],
   "source": [
    "# Exibe as dimensões de df\n",
    "df1.shape"
   ],
   "metadata": {
    "collapsed": false,
    "ExecuteTime": {
     "end_time": "2023-10-23T20:16:01.618364900Z",
     "start_time": "2023-10-23T20:16:01.584516500Z"
    }
   }
  },
  {
   "cell_type": "code",
   "execution_count": 9,
   "outputs": [
    {
     "name": "stdout",
     "output_type": "stream",
     "text": [
      "<class 'pandas.core.frame.DataFrame'>\n",
      "Int64Index: 2257981 entries, 0 to 2258017\n",
      "Data columns (total 7 columns):\n",
      " #   Column                Dtype  \n",
      "---  ------                -----  \n",
      " 0   id_emprestimo         int64  \n",
      " 1   codigo_barras         object \n",
      " 2   data_renovacao        object \n",
      " 3   data_emprestimo       object \n",
      " 4   data_devolucao        object \n",
      " 5   matricula_ou_siape    float64\n",
      " 6   tipo_vinculo_usuario  object \n",
      "dtypes: float64(1), int64(1), object(5)\n",
      "memory usage: 137.8+ MB\n"
     ]
    }
   ],
   "source": [
    "# Informações do DataFrame\n",
    "df1.info()"
   ],
   "metadata": {
    "collapsed": false,
    "ExecuteTime": {
     "end_time": "2023-10-23T20:16:01.623363700Z",
     "start_time": "2023-10-23T20:16:01.595213600Z"
    }
   }
  },
  {
   "cell_type": "code",
   "execution_count": 10,
   "outputs": [
    {
     "data": {
      "text/plain": "id_emprestimo                 0\ncodigo_barras                 0\ndata_renovacao          1285709\ndata_emprestimo               0\ndata_devolucao             6471\nmatricula_ou_siape         3170\ntipo_vinculo_usuario          0\ndtype: int64"
     },
     "execution_count": 10,
     "metadata": {},
     "output_type": "execute_result"
    }
   ],
   "source": [
    "# Exibe valores nulos por coluna\n",
    "df1.isna().sum()"
   ],
   "metadata": {
    "collapsed": false,
    "ExecuteTime": {
     "end_time": "2023-10-23T20:16:04.873357500Z",
     "start_time": "2023-10-23T20:16:01.609364600Z"
    }
   }
  },
  {
   "cell_type": "code",
   "execution_count": 11,
   "outputs": [],
   "source": [
    "# Função para carregar os dados no arquivo parquet\n",
    "def carregar_dados_parquet(arquivo='dados/dados_exemplares.parquet'):\n",
    "    df = pd.read_parquet(arquivo)\n",
    "    \n",
    "    assert df.isna().sum().sum() == 0\n",
    "    assert df.duplicated().sum() == 0\n",
    "        \n",
    "    return df"
   ],
   "metadata": {
    "collapsed": false,
    "ExecuteTime": {
     "end_time": "2023-10-23T20:16:04.898090200Z",
     "start_time": "2023-10-23T20:16:04.870357500Z"
    }
   }
  },
  {
   "cell_type": "code",
   "execution_count": 12,
   "outputs": [
    {
     "data": {
      "text/plain": "       id_exemplar codigo_barras            colecao  \\\nindex                                                 \n0                5       L000003  Acervo Circulante   \n1                4       L000002  Acervo Circulante   \n2                3       L000001  Acervo Circulante   \n3                7       L000114  Acervo Circulante   \n5               10       L000041  Acervo Circulante   \n\n                           biblioteca status_material  localizacao  \\\nindex                                                                \n0      Biblioteca Central Zila Mamede         REGULAR          694   \n1      Biblioteca Central Zila Mamede         REGULAR          688   \n2      Biblioteca Central Zila Mamede        ESPECIAL          638   \n3      Biblioteca Central Zila Mamede         REGULAR          616   \n5      Biblioteca Central Zila Mamede        ESPECIAL          657   \n\n       registro_sistema  \nindex                    \n0                     1  \n1                     1  \n2                     1  \n3                     5  \n5                    15  ",
      "text/html": "<div>\n<style scoped>\n    .dataframe tbody tr th:only-of-type {\n        vertical-align: middle;\n    }\n\n    .dataframe tbody tr th {\n        vertical-align: top;\n    }\n\n    .dataframe thead th {\n        text-align: right;\n    }\n</style>\n<table border=\"1\" class=\"dataframe\">\n  <thead>\n    <tr style=\"text-align: right;\">\n      <th></th>\n      <th>id_exemplar</th>\n      <th>codigo_barras</th>\n      <th>colecao</th>\n      <th>biblioteca</th>\n      <th>status_material</th>\n      <th>localizacao</th>\n      <th>registro_sistema</th>\n    </tr>\n    <tr>\n      <th>index</th>\n      <th></th>\n      <th></th>\n      <th></th>\n      <th></th>\n      <th></th>\n      <th></th>\n      <th></th>\n    </tr>\n  </thead>\n  <tbody>\n    <tr>\n      <th>0</th>\n      <td>5</td>\n      <td>L000003</td>\n      <td>Acervo Circulante</td>\n      <td>Biblioteca Central Zila Mamede</td>\n      <td>REGULAR</td>\n      <td>694</td>\n      <td>1</td>\n    </tr>\n    <tr>\n      <th>1</th>\n      <td>4</td>\n      <td>L000002</td>\n      <td>Acervo Circulante</td>\n      <td>Biblioteca Central Zila Mamede</td>\n      <td>REGULAR</td>\n      <td>688</td>\n      <td>1</td>\n    </tr>\n    <tr>\n      <th>2</th>\n      <td>3</td>\n      <td>L000001</td>\n      <td>Acervo Circulante</td>\n      <td>Biblioteca Central Zila Mamede</td>\n      <td>ESPECIAL</td>\n      <td>638</td>\n      <td>1</td>\n    </tr>\n    <tr>\n      <th>3</th>\n      <td>7</td>\n      <td>L000114</td>\n      <td>Acervo Circulante</td>\n      <td>Biblioteca Central Zila Mamede</td>\n      <td>REGULAR</td>\n      <td>616</td>\n      <td>5</td>\n    </tr>\n    <tr>\n      <th>5</th>\n      <td>10</td>\n      <td>L000041</td>\n      <td>Acervo Circulante</td>\n      <td>Biblioteca Central Zila Mamede</td>\n      <td>ESPECIAL</td>\n      <td>657</td>\n      <td>15</td>\n    </tr>\n  </tbody>\n</table>\n</div>"
     },
     "execution_count": 12,
     "metadata": {},
     "output_type": "execute_result"
    }
   ],
   "source": [
    "# Carrega os dados do arquivo parquet\n",
    "df2 = carregar_dados_parquet()\n",
    "df2.head()"
   ],
   "metadata": {
    "collapsed": false,
    "ExecuteTime": {
     "end_time": "2023-10-23T20:16:06.580370700Z",
     "start_time": "2023-10-23T20:16:04.880092600Z"
    }
   }
  },
  {
   "cell_type": "code",
   "execution_count": 13,
   "outputs": [],
   "source": [
    "# Função para unir dois dataframes com merge (interseção)\n",
    "def unir_dataframes(df1, df2):\n",
    "    df = df1.merge(df2)\n",
    "    assert df.duplicated().sum() == 0\n",
    "    \n",
    "    return df"
   ],
   "metadata": {
    "collapsed": false,
    "ExecuteTime": {
     "end_time": "2023-10-23T20:16:06.610370700Z",
     "start_time": "2023-10-23T20:16:06.575769300Z"
    }
   }
  },
  {
   "cell_type": "code",
   "execution_count": 14,
   "outputs": [
    {
     "data": {
      "text/plain": "   id_emprestimo codigo_barras                 data_renovacao  \\\n0         709684       L095049                            NaN   \n1         726965       L095049  2010/03/31 12:41:08.684000000   \n2         709685       L167050                            NaN   \n3         717763       L167050                            NaN   \n4         729996       L167050  2010/03/17 09:08:26.874000000   \n\n                 data_emprestimo                 data_devolucao  \\\n0  2010/01/04 07:44:10.721000000  2010/01/05 16:26:12.662000000   \n1  2010/03/01 12:40:56.212000000  2010/04/30 14:42:35.366000000   \n2  2010/01/04 07:44:10.750000000  2010/01/12 07:34:13.934000000   \n3  2010/02/11 11:16:30.335000000  2010/03/04 08:54:32.262000000   \n4  2010/03/04 13:36:26.599000000  2010/03/31 18:04:29.669000000   \n\n   matricula_ou_siape    tipo_vinculo_usuario  id_exemplar            colecao  \\\n0       2008023265.00      ALUNO DE GRADUAÇÃO        13259  Acervo Circulante   \n1       2009121584.00  ALUNO DE PÓS-GRADUAÇÃO        13259  Acervo Circulante   \n2       2008023265.00      ALUNO DE GRADUAÇÃO        70865  Acervo Circulante   \n3       2008050352.00      ALUNO DE GRADUAÇÃO        70865  Acervo Circulante   \n4        200722565.00      ALUNO DE GRADUAÇÃO        70865  Acervo Circulante   \n\n                       biblioteca status_material  localizacao  \\\n0  Biblioteca Central Zila Mamede         REGULAR          630   \n1  Biblioteca Central Zila Mamede         REGULAR          630   \n2  Biblioteca Central Zila Mamede         REGULAR          647   \n3  Biblioteca Central Zila Mamede         REGULAR          647   \n4  Biblioteca Central Zila Mamede         REGULAR          647   \n\n   registro_sistema  \n0              4225  \n1              4225  \n2             25009  \n3             25009  \n4             25009  ",
      "text/html": "<div>\n<style scoped>\n    .dataframe tbody tr th:only-of-type {\n        vertical-align: middle;\n    }\n\n    .dataframe tbody tr th {\n        vertical-align: top;\n    }\n\n    .dataframe thead th {\n        text-align: right;\n    }\n</style>\n<table border=\"1\" class=\"dataframe\">\n  <thead>\n    <tr style=\"text-align: right;\">\n      <th></th>\n      <th>id_emprestimo</th>\n      <th>codigo_barras</th>\n      <th>data_renovacao</th>\n      <th>data_emprestimo</th>\n      <th>data_devolucao</th>\n      <th>matricula_ou_siape</th>\n      <th>tipo_vinculo_usuario</th>\n      <th>id_exemplar</th>\n      <th>colecao</th>\n      <th>biblioteca</th>\n      <th>status_material</th>\n      <th>localizacao</th>\n      <th>registro_sistema</th>\n    </tr>\n  </thead>\n  <tbody>\n    <tr>\n      <th>0</th>\n      <td>709684</td>\n      <td>L095049</td>\n      <td>NaN</td>\n      <td>2010/01/04 07:44:10.721000000</td>\n      <td>2010/01/05 16:26:12.662000000</td>\n      <td>2008023265.00</td>\n      <td>ALUNO DE GRADUAÇÃO</td>\n      <td>13259</td>\n      <td>Acervo Circulante</td>\n      <td>Biblioteca Central Zila Mamede</td>\n      <td>REGULAR</td>\n      <td>630</td>\n      <td>4225</td>\n    </tr>\n    <tr>\n      <th>1</th>\n      <td>726965</td>\n      <td>L095049</td>\n      <td>2010/03/31 12:41:08.684000000</td>\n      <td>2010/03/01 12:40:56.212000000</td>\n      <td>2010/04/30 14:42:35.366000000</td>\n      <td>2009121584.00</td>\n      <td>ALUNO DE PÓS-GRADUAÇÃO</td>\n      <td>13259</td>\n      <td>Acervo Circulante</td>\n      <td>Biblioteca Central Zila Mamede</td>\n      <td>REGULAR</td>\n      <td>630</td>\n      <td>4225</td>\n    </tr>\n    <tr>\n      <th>2</th>\n      <td>709685</td>\n      <td>L167050</td>\n      <td>NaN</td>\n      <td>2010/01/04 07:44:10.750000000</td>\n      <td>2010/01/12 07:34:13.934000000</td>\n      <td>2008023265.00</td>\n      <td>ALUNO DE GRADUAÇÃO</td>\n      <td>70865</td>\n      <td>Acervo Circulante</td>\n      <td>Biblioteca Central Zila Mamede</td>\n      <td>REGULAR</td>\n      <td>647</td>\n      <td>25009</td>\n    </tr>\n    <tr>\n      <th>3</th>\n      <td>717763</td>\n      <td>L167050</td>\n      <td>NaN</td>\n      <td>2010/02/11 11:16:30.335000000</td>\n      <td>2010/03/04 08:54:32.262000000</td>\n      <td>2008050352.00</td>\n      <td>ALUNO DE GRADUAÇÃO</td>\n      <td>70865</td>\n      <td>Acervo Circulante</td>\n      <td>Biblioteca Central Zila Mamede</td>\n      <td>REGULAR</td>\n      <td>647</td>\n      <td>25009</td>\n    </tr>\n    <tr>\n      <th>4</th>\n      <td>729996</td>\n      <td>L167050</td>\n      <td>2010/03/17 09:08:26.874000000</td>\n      <td>2010/03/04 13:36:26.599000000</td>\n      <td>2010/03/31 18:04:29.669000000</td>\n      <td>200722565.00</td>\n      <td>ALUNO DE GRADUAÇÃO</td>\n      <td>70865</td>\n      <td>Acervo Circulante</td>\n      <td>Biblioteca Central Zila Mamede</td>\n      <td>REGULAR</td>\n      <td>647</td>\n      <td>25009</td>\n    </tr>\n  </tbody>\n</table>\n</div>"
     },
     "execution_count": 14,
     "metadata": {},
     "output_type": "execute_result"
    }
   ],
   "source": [
    "# Une dois dataframes\n",
    "df = unir_dataframes(df1, df2)\n",
    "df.head()"
   ],
   "metadata": {
    "collapsed": false,
    "ExecuteTime": {
     "end_time": "2023-10-23T20:16:18.427875Z",
     "start_time": "2023-10-23T20:16:06.583371Z"
    }
   }
  },
  {
   "cell_type": "code",
   "execution_count": 15,
   "outputs": [
    {
     "data": {
      "text/plain": "((2072522, 13), (2257981, 7), (546237, 7))"
     },
     "execution_count": 15,
     "metadata": {},
     "output_type": "execute_result"
    }
   ],
   "source": [
    "# Verfica as dimensões dos 3 dataframes\n",
    "df.shape, df1.shape, df2.shape"
   ],
   "metadata": {
    "collapsed": false,
    "ExecuteTime": {
     "end_time": "2023-10-23T20:16:18.453566300Z",
     "start_time": "2023-10-23T20:16:18.422822400Z"
    }
   }
  },
  {
   "cell_type": "markdown",
   "source": [
    "---\n",
    "<a id='day_2'></a>\n",
    "### 3.2. Dia 2"
   ],
   "metadata": {
    "collapsed": false
   }
  },
  {
   "cell_type": "code",
   "execution_count": 16,
   "outputs": [],
   "source": [
    "# Função que mapea o CDU por 'localização'\n",
    "def mapear_cdu_para_area(cdu):\n",
    "    if cdu < 100:\n",
    "        return 'Generalidades'\n",
    "    elif cdu < 200:\n",
    "        return 'Filosofia e psicologia'\n",
    "    elif cdu < 300:\n",
    "        return 'Religião'\n",
    "    elif cdu < 400:\n",
    "        return 'Ciências sociais'\n",
    "    elif cdu < 500:\n",
    "        return 'Classe vaga'\n",
    "    elif cdu < 600:\n",
    "        return 'Matemática e ciências naturais'\n",
    "    elif cdu < 700:\n",
    "        return 'Ciências aplicadas'\n",
    "    elif cdu < 800:\n",
    "        return 'Belas artes'\n",
    "    elif cdu < 900:\n",
    "        return 'Linguagem'\n",
    "    else:\n",
    "        return 'Geografia. Biografia. História.'"
   ],
   "metadata": {
    "collapsed": false,
    "ExecuteTime": {
     "end_time": "2023-10-23T20:16:18.453566300Z",
     "start_time": "2023-10-23T20:16:18.431889600Z"
    }
   }
  },
  {
   "cell_type": "code",
   "execution_count": 17,
   "outputs": [
    {
     "data": {
      "text/plain": "Index(['id_emprestimo', 'codigo_barras', 'data_renovacao', 'data_emprestimo',\n       'data_devolucao', 'matricula_ou_siape', 'tipo_vinculo_usuario',\n       'id_exemplar', 'colecao', 'biblioteca', 'status_material',\n       'localizacao', 'registro_sistema'],\n      dtype='object')"
     },
     "execution_count": 17,
     "metadata": {},
     "output_type": "execute_result"
    }
   ],
   "source": [
    "# Exibe as colunas de df\n",
    "df.columns"
   ],
   "metadata": {
    "collapsed": false,
    "ExecuteTime": {
     "end_time": "2023-10-23T20:16:18.533571500Z",
     "start_time": "2023-10-23T20:16:18.442844300Z"
    }
   }
  },
  {
   "cell_type": "code",
   "execution_count": 18,
   "outputs": [
    {
     "data": {
      "text/plain": "array(['Ciências aplicadas', 'Linguagem', 'Ciências sociais',\n       'Geografia. Biografia. História.',\n       'Matemática e ciências naturais', 'Religião', 'Generalidades',\n       'Filosofia e psicologia', 'Belas artes'], dtype=object)"
     },
     "execution_count": 18,
     "metadata": {},
     "output_type": "execute_result"
    }
   ],
   "source": [
    "# Cria coluna 'CDU_geral' a partir da coluna 'localizacao'\n",
    "df['CDU_geral'] = ''\n",
    "df['CDU_geral'] = df['localizacao'].apply(mapear_cdu_para_area)\n",
    "df['CDU_geral'].unique()"
   ],
   "metadata": {
    "collapsed": false,
    "ExecuteTime": {
     "end_time": "2023-10-23T20:16:19.957494100Z",
     "start_time": "2023-10-23T20:16:18.453566300Z"
    }
   }
  },
  {
   "cell_type": "code",
   "execution_count": 19,
   "outputs": [],
   "source": [
    "# Verifica se a coluna 'CDU_geral' foi criada\n",
    "assert 'CDU_geral' in df.columns"
   ],
   "metadata": {
    "collapsed": false,
    "ExecuteTime": {
     "end_time": "2023-10-23T20:16:19.957494100Z",
     "start_time": "2023-10-23T20:16:19.934494100Z"
    }
   }
  },
  {
   "cell_type": "code",
   "execution_count": 20,
   "outputs": [],
   "source": [
    "# Remove coluna 'registro_sistema'\n",
    "df.drop(columns=['registro_sistema'],inplace=True)"
   ],
   "metadata": {
    "collapsed": false,
    "ExecuteTime": {
     "end_time": "2023-10-23T20:16:20.602494800Z",
     "start_time": "2023-10-23T20:16:19.941493600Z"
    }
   }
  },
  {
   "cell_type": "code",
   "execution_count": 21,
   "outputs": [],
   "source": [
    "# Verifica se a coluna 'registro_sistema' foi removida\n",
    "assert 'registro_sistema' not in df.columns"
   ],
   "metadata": {
    "collapsed": false,
    "ExecuteTime": {
     "end_time": "2023-10-23T20:16:20.609532600Z",
     "start_time": "2023-10-23T20:16:20.602494800Z"
    }
   }
  },
  {
   "cell_type": "code",
   "execution_count": 22,
   "outputs": [],
   "source": [
    "# Altera o tipo de 'matricula_ou_siape' para string\n",
    "df['matricula_ou_siape'] = df['matricula_ou_siape'].astype('string')"
   ],
   "metadata": {
    "collapsed": false,
    "ExecuteTime": {
     "end_time": "2023-10-23T20:16:24.755557300Z",
     "start_time": "2023-10-23T20:16:20.609532600Z"
    }
   }
  },
  {
   "cell_type": "code",
   "execution_count": 23,
   "outputs": [],
   "source": [
    "# Verifica se o tipo de 'matricula_ou_siape' é String\n",
    "assert df['matricula_ou_siape'].dtype == pd.StringDtype()"
   ],
   "metadata": {
    "collapsed": false,
    "ExecuteTime": {
     "end_time": "2023-10-23T20:16:24.762153800Z",
     "start_time": "2023-10-23T20:16:24.755557300Z"
    }
   }
  },
  {
   "cell_type": "markdown",
   "source": [
    "---\n",
    "<a id='day_3'></a>\n",
    "### 3.3. Dia 3"
   ],
   "metadata": {
    "collapsed": false
   }
  },
  {
   "cell_type": "code",
   "execution_count": 24,
   "outputs": [],
   "source": [
    "def converter_string_para_datetime(datas, formato_entrada='%Y/%m/%d %H:%M:%S.%f'):\n",
    "    # formato_saida='%d/%m/%Y %H:%M:%S.%f'\n",
    "    # .dt.strftime(formato_saida)\n",
    "    return pd.to_datetime(datas, format=formato_entrada)"
   ],
   "metadata": {
    "collapsed": false,
    "ExecuteTime": {
     "end_time": "2023-10-23T20:16:24.781810Z",
     "start_time": "2023-10-23T20:16:24.770152700Z"
    }
   }
  },
  {
   "cell_type": "code",
   "execution_count": 25,
   "outputs": [],
   "source": [
    "df['data_emprestimo'] = converter_string_para_datetime(df['data_emprestimo'])"
   ],
   "metadata": {
    "collapsed": false,
    "ExecuteTime": {
     "end_time": "2023-10-23T20:16:29.598087Z",
     "start_time": "2023-10-23T20:16:24.777792500Z"
    }
   }
  },
  {
   "cell_type": "code",
   "execution_count": 26,
   "outputs": [],
   "source": [
    "df['data_renovacao'] = converter_string_para_datetime(df['data_renovacao'])"
   ],
   "metadata": {
    "collapsed": false,
    "ExecuteTime": {
     "end_time": "2023-10-23T20:16:32.664288100Z",
     "start_time": "2023-10-23T20:16:29.598087Z"
    }
   }
  },
  {
   "cell_type": "code",
   "execution_count": 27,
   "outputs": [],
   "source": [
    "df['data_devolucao'] = converter_string_para_datetime(df['data_devolucao'])"
   ],
   "metadata": {
    "collapsed": false,
    "ExecuteTime": {
     "end_time": "2023-10-23T20:16:36.995838800Z",
     "start_time": "2023-10-23T20:16:32.665287700Z"
    }
   }
  },
  {
   "cell_type": "markdown",
   "source": [
    "### Qual é a quantidade de empréstimos por ano?"
   ],
   "metadata": {
    "collapsed": false
   }
  },
  {
   "cell_type": "code",
   "execution_count": 28,
   "outputs": [],
   "source": [
    "def plotar_linha(x, y, xlabel, ylabel, titulo):\n",
    "    plt.figure(figsize=(10, 6))\n",
    "    sns.lineplot(x=x, y=y)\n",
    "    plt.xlabel(xlabel)\n",
    "    plt.ylabel(ylabel)\n",
    "    plt.title(titulo)\n",
    "    plt.show()"
   ],
   "metadata": {
    "collapsed": false,
    "ExecuteTime": {
     "end_time": "2023-10-23T20:16:37.011914200Z",
     "start_time": "2023-10-23T20:16:36.995838800Z"
    }
   }
  },
  {
   "cell_type": "code",
   "execution_count": 29,
   "outputs": [],
   "source": [
    "emprestimos_ano = df['data_emprestimo'].dt.year\n",
    "contagem_emprestimos_ano = emprestimos_ano.value_counts().sort_index()"
   ],
   "metadata": {
    "collapsed": false,
    "ExecuteTime": {
     "end_time": "2023-10-23T20:16:37.394526600Z",
     "start_time": "2023-10-23T20:16:37.009880600Z"
    }
   }
  },
  {
   "cell_type": "code",
   "execution_count": 30,
   "outputs": [
    {
     "data": {
      "text/plain": "<Figure size 1000x600 with 1 Axes>",
      "image/png": "[encoded data removed]"
     },
     "metadata": {},
     "output_type": "display_data"
    }
   ],
   "source": [
    "plotar_linha(x=contagem_emprestimos_ano.index, y=contagem_emprestimos_ano.values, xlabel='Ano', ylabel='Número de Empréstimos', titulo='Empréstimos por Ano')"
   ],
   "metadata": {
    "collapsed": false,
    "ExecuteTime": {
     "end_time": "2023-10-23T20:16:37.856430900Z",
     "start_time": "2023-10-23T20:16:37.394526600Z"
    }
   }
  },
  {
   "cell_type": "markdown",
   "source": [
    "### Qual é a quantidade de empréstimos por mês?"
   ],
   "metadata": {
    "collapsed": false
   }
  },
  {
   "cell_type": "code",
   "execution_count": 31,
   "outputs": [],
   "source": [
    "emprestimos_mes= df['data_emprestimo'].dt.month\n",
    "contagem_emprestimos_mes = emprestimos_mes.value_counts().sort_index()\n",
    "contagem_emprestimos_mes.index = ['Jan', 'Fev', 'Mar', 'Abr', 'Maio', 'Jun', 'Jul', 'Ago', 'Set', 'Out', 'Nov', 'Dez']"
   ],
   "metadata": {
    "collapsed": false,
    "ExecuteTime": {
     "end_time": "2023-10-23T20:16:38.361729200Z",
     "start_time": "2023-10-23T20:16:37.852431Z"
    }
   }
  },
  {
   "cell_type": "code",
   "execution_count": 32,
   "outputs": [
    {
     "data": {
      "text/plain": "<Figure size 1000x600 with 1 Axes>",
      "image/png": "[encoded data removed]"
     },
     "metadata": {},
     "output_type": "display_data"
    }
   ],
   "source": [
    "plotar_linha(x=contagem_emprestimos_mes.index, y=contagem_emprestimos_mes.values, xlabel='Mês', ylabel='Número de Empréstimos', titulo='Empréstimos por Mês')"
   ],
   "metadata": {
    "collapsed": false,
    "ExecuteTime": {
     "end_time": "2023-10-23T20:16:38.917789400Z",
     "start_time": "2023-10-23T20:16:38.361729200Z"
    }
   }
  },
  {
   "cell_type": "markdown",
   "source": [
    "### Qual é a quantidade de empréstimos por hora ao longo do dia ?"
   ],
   "metadata": {
    "collapsed": false
   }
  },
  {
   "cell_type": "code",
   "execution_count": 33,
   "outputs": [],
   "source": [
    "def plotar_barra(x, y, xlabel, ylabel, titulo):\n",
    "    paleta_cores = sns.color_palette(\"Blues\", n_colors=1)  \n",
    "    plt.figure(figsize=(10, 6))\n",
    "    sns.barplot(x=x, y=y, palette=paleta_cores)\n",
    "    plt.xlabel(xlabel)\n",
    "    plt.ylabel(ylabel)\n",
    "    plt.title(titulo)\n",
    "    plt.show()"
   ],
   "metadata": {
    "collapsed": false,
    "ExecuteTime": {
     "end_time": "2023-10-23T20:16:38.936220Z",
     "start_time": "2023-10-23T20:16:38.917789400Z"
    }
   }
  },
  {
   "cell_type": "code",
   "execution_count": 34,
   "outputs": [
    {
     "data": {
      "text/plain": "0         17\n6         14\n7      18777\n8     103416\n9     131273\n10    185839\n11    180048\n12    148754\n13    126987\n14    150876\n15    166672\n16    210655\n17    185340\n18    182520\n19    102129\n20    127716\n21     51191\n22       247\n23        51\nName: data_emprestimo, dtype: int64"
     },
     "execution_count": 34,
     "metadata": {},
     "output_type": "execute_result"
    }
   ],
   "source": [
    "emprestimos_hora = df['data_emprestimo'].dt.hour\n",
    "contagem_emprestimos_hora = emprestimos_hora.value_counts().sort_index()\n",
    "contagem_emprestimos_hora"
   ],
   "metadata": {
    "collapsed": false,
    "ExecuteTime": {
     "end_time": "2023-10-23T20:16:39.295508800Z",
     "start_time": "2023-10-23T20:16:38.925221400Z"
    }
   }
  },
  {
   "cell_type": "code",
   "execution_count": 35,
   "outputs": [
    {
     "data": {
      "text/plain": "<Figure size 1000x600 with 1 Axes>",
      "image/png": "[encoded data removed]"
     },
     "metadata": {},
     "output_type": "display_data"
    }
   ],
   "source": [
    "plotar_barra(x=contagem_emprestimos_hora.index, y=contagem_emprestimos_hora.values, xlabel='Hora', ylabel='Número de Empréstimos', titulo='Empréstimos por Hora')"
   ],
   "metadata": {
    "collapsed": false,
    "ExecuteTime": {
     "end_time": "2023-10-23T20:16:39.898024100Z",
     "start_time": "2023-10-23T20:16:39.298508400Z"
    }
   }
  },
  {
   "cell_type": "markdown",
   "source": [
    "---\n",
    "<a id='day_4'></a>\n",
    "### 3.4. Dia 4"
   ],
   "metadata": {
    "collapsed": false
   }
  },
  {
   "cell_type": "code",
   "execution_count": 36,
   "outputs": [],
   "source": [
    "def exibe_valores_unicos(serie, nome):\n",
    "    num_valores = serie.nunique()\n",
    "    valores = ', '.join(serie.unique().tolist())\n",
    "    print(f'Os {num_valores} valores únicos para {nome} são: {valores}.')"
   ],
   "metadata": {
    "collapsed": false,
    "ExecuteTime": {
     "end_time": "2023-10-23T20:16:39.910612400Z",
     "start_time": "2023-10-23T20:16:39.896771400Z"
    }
   }
  },
  {
   "cell_type": "code",
   "execution_count": 37,
   "outputs": [
    {
     "name": "stdout",
     "output_type": "stream",
     "text": [
      "Os 8 valores únicos para tipo de vínculo do usuário são: ALUNO DE GRADUAÇÃO, ALUNO DE PÓS-GRADUAÇÃO, DOCENTE, DOCENTE EXTERNO, SERVIDOR TÉCNICO-ADMINISTRATIVO, ALUNO MÉDIO/TÉCNICO, USUÁRIO EXTERNO, OUTROS.\n"
     ]
    }
   ],
   "source": [
    "exibe_valores_unicos(df['tipo_vinculo_usuario'], 'tipo de vínculo do usuário')"
   ],
   "metadata": {
    "collapsed": false,
    "ExecuteTime": {
     "end_time": "2023-10-23T20:16:40.439063800Z",
     "start_time": "2023-10-23T20:16:39.903544700Z"
    }
   }
  },
  {
   "cell_type": "code",
   "execution_count": 38,
   "outputs": [
    {
     "name": "stdout",
     "output_type": "stream",
     "text": [
      "Os 9 valores únicos para CDU geral são: Ciências aplicadas, Linguagem, Ciências sociais, Geografia. Biografia. História., Matemática e ciências naturais, Religião, Generalidades, Filosofia e psicologia, Belas artes.\n"
     ]
    }
   ],
   "source": [
    "exibe_valores_unicos(df['CDU_geral'], 'CDU geral')"
   ],
   "metadata": {
    "collapsed": false,
    "ExecuteTime": {
     "end_time": "2023-10-23T20:16:40.927088700Z",
     "start_time": "2023-10-23T20:16:40.438033900Z"
    }
   }
  },
  {
   "cell_type": "code",
   "execution_count": 39,
   "outputs": [
    {
     "name": "stdout",
     "output_type": "stream",
     "text": [
      "Os 22 valores únicos para biblioteca são: Biblioteca Central Zila Mamede, Biblioteca Setorial Prof. Rodolfo Helinski - Escola Agrícola de Jundiaí - EAJ  - Macaiba, Biblioteca Setorial Bertha Cruz Enders - ­Escola de Saúde da UFRN - ESUFRN, Biblioteca Setorial do Centro Ciências da Saúde - CCS, Biblioteca Setorial Prof. Alberto Moreira Campos - ­Departamento de Odontologia, Biblioteca Setorial Prof. Ronaldo Xavier de Arruda - CCET, Biblioteca Setorial do Centro de Ciências Humanas, Letras e Artes - CCHLA, Biblioteca Setorial Prof. Horácio Nicolas Solimo - ­ Engenharia Química - EQ - CT, Biblioteca Setorial Prof. Francisco Gurgel De Azevedo - Instituto Química - IQ, Biblioteca Setorial do Centro Ciências Sociais Aplicadas - CCSA, Biblioteca Setorial do Departamento de Artes - DEART, Biblioteca Setorial Prof. Dr. Marcelo Bezerra de Melo Tinôco - DARQ - ­CT, Biblioteca Setorial Árvore do Conhecimento - Instituto do Cérebro - ICe, Biblioteca Setorial Moacyr de Góes - CE, Biblioteca Setorial Prof. Leopoldo Nelson - ­Centro de Biociências - CB, Biblioteca Setorial Dr. Paulo Bezerra - EMCM/RN - Caicó, Biblioteca Setorial Pe. Jaime Diniz - Escola de Música - EMUFRN, Biblioteca Setorial Profª. Maria Lúcia da Costa Bezerra - ­CERES­ - Caicó, Biblioteca Setorial Profª. Maria José Mamede Galvão - FELCS - Currais Novos, Biblioteca Setorial do Núcleo de Educação da Infância - NEI, Biblioteca Setorial da Faculdade de Ciências da Saúde do Trairi - FACISA - Santa Cruz, Biblioteca Setorial do Núcleo de Ensino Superior do Agreste - NESA - Nova Cruz.\n"
     ]
    }
   ],
   "source": [
    "exibe_valores_unicos(df['biblioteca'], 'biblioteca')"
   ],
   "metadata": {
    "collapsed": false,
    "ExecuteTime": {
     "end_time": "2023-10-23T20:16:41.651271200Z",
     "start_time": "2023-10-23T20:16:40.926087700Z"
    }
   }
  },
  {
   "cell_type": "code",
   "execution_count": 40,
   "outputs": [
    {
     "name": "stdout",
     "output_type": "stream",
     "text": [
      "Os 16 valores únicos para coleção são: Acervo Circulante, Folhetos, Teses, Dissertações, Monografias, Publicações de Autores do RN, Publicações da UFRN, Multimeios, Coleção Mossoroense, Eventos, Trabalho Acadêmico, Obras de Referência, Obras Raras, Literatura de Cordel, Coleção Zila Mamede, Necessidades Educacionais Específicas.\n"
     ]
    }
   ],
   "source": [
    "exibe_valores_unicos(df['colecao'], 'coleção')"
   ],
   "metadata": {
    "collapsed": false,
    "ExecuteTime": {
     "end_time": "2023-10-23T20:16:42.150328700Z",
     "start_time": "2023-10-23T20:16:41.650271100Z"
    }
   }
  },
  {
   "cell_type": "code",
   "execution_count": 41,
   "outputs": [],
   "source": [
    "def contar_valores(serie):\n",
    "    quantidade = serie.value_counts()\n",
    "    percentagem = serie.value_counts(normalize=True)\n",
    "    percentagem = (percentagem * 100).round(2)\n",
    "    contagem_percentagem = pd.concat([quantidade, percentagem], axis=1)\n",
    "    contagem_percentagem.columns = ['Quantidade', 'Porcentagem (%)']\n",
    "    \n",
    "    return contagem_percentagem"
   ],
   "metadata": {
    "collapsed": false,
    "ExecuteTime": {
     "end_time": "2023-10-23T20:16:42.150328700Z",
     "start_time": "2023-10-23T20:16:42.137742800Z"
    }
   }
  },
  {
   "cell_type": "code",
   "execution_count": 42,
   "outputs": [
    {
     "data": {
      "text/plain": "                                 Quantidade  Porcentagem (%)\nALUNO DE GRADUAÇÃO                  1612324            77.80\nALUNO DE PÓS-GRADUAÇÃO               302541            14.60\nDOCENTE                               70981             3.42\nSERVIDOR TÉCNICO-ADMINISTRATIVO       32184             1.55\nALUNO MÉDIO/TÉCNICO                   28029             1.35\nDOCENTE EXTERNO                       23949             1.16\nUSUÁRIO EXTERNO                        2509             0.12\nOUTROS                                    5             0.00",
      "text/html": "<div>\n<style scoped>\n    .dataframe tbody tr th:only-of-type {\n        vertical-align: middle;\n    }\n\n    .dataframe tbody tr th {\n        vertical-align: top;\n    }\n\n    .dataframe thead th {\n        text-align: right;\n    }\n</style>\n<table border=\"1\" class=\"dataframe\">\n  <thead>\n    <tr style=\"text-align: right;\">\n      <th></th>\n      <th>Quantidade</th>\n      <th>Porcentagem (%)</th>\n    </tr>\n  </thead>\n  <tbody>\n    <tr>\n      <th>ALUNO DE GRADUAÇÃO</th>\n      <td>1612324</td>\n      <td>77.80</td>\n    </tr>\n    <tr>\n      <th>ALUNO DE PÓS-GRADUAÇÃO</th>\n      <td>302541</td>\n      <td>14.60</td>\n    </tr>\n    <tr>\n      <th>DOCENTE</th>\n      <td>70981</td>\n      <td>3.42</td>\n    </tr>\n    <tr>\n      <th>SERVIDOR TÉCNICO-ADMINISTRATIVO</th>\n      <td>32184</td>\n      <td>1.55</td>\n    </tr>\n    <tr>\n      <th>ALUNO MÉDIO/TÉCNICO</th>\n      <td>28029</td>\n      <td>1.35</td>\n    </tr>\n    <tr>\n      <th>DOCENTE EXTERNO</th>\n      <td>23949</td>\n      <td>1.16</td>\n    </tr>\n    <tr>\n      <th>USUÁRIO EXTERNO</th>\n      <td>2509</td>\n      <td>0.12</td>\n    </tr>\n    <tr>\n      <th>OUTROS</th>\n      <td>5</td>\n      <td>0.00</td>\n    </tr>\n  </tbody>\n</table>\n</div>"
     },
     "execution_count": 42,
     "metadata": {},
     "output_type": "execute_result"
    }
   ],
   "source": [
    "contar_valores(df['tipo_vinculo_usuario'])"
   ],
   "metadata": {
    "collapsed": false,
    "ExecuteTime": {
     "end_time": "2023-10-23T20:16:42.524283700Z",
     "start_time": "2023-10-23T20:16:42.148331900Z"
    }
   }
  },
  {
   "cell_type": "code",
   "execution_count": 43,
   "outputs": [
    {
     "data": {
      "text/plain": "                                 Quantidade  Porcentagem (%)\nCiências aplicadas                  1425473            68.78\nCiências sociais                     369536            17.83\nMatemática e ciências naturais        68744             3.32\nGeneralidades                         62521             3.02\nReligião                              62295             3.01\nFilosofia e psicologia                60563             2.92\nGeografia. Biografia. História.        7989             0.39\nBelas artes                            7911             0.38\nLinguagem                              7490             0.36",
      "text/html": "<div>\n<style scoped>\n    .dataframe tbody tr th:only-of-type {\n        vertical-align: middle;\n    }\n\n    .dataframe tbody tr th {\n        vertical-align: top;\n    }\n\n    .dataframe thead th {\n        text-align: right;\n    }\n</style>\n<table border=\"1\" class=\"dataframe\">\n  <thead>\n    <tr style=\"text-align: right;\">\n      <th></th>\n      <th>Quantidade</th>\n      <th>Porcentagem (%)</th>\n    </tr>\n  </thead>\n  <tbody>\n    <tr>\n      <th>Ciências aplicadas</th>\n      <td>1425473</td>\n      <td>68.78</td>\n    </tr>\n    <tr>\n      <th>Ciências sociais</th>\n      <td>369536</td>\n      <td>17.83</td>\n    </tr>\n    <tr>\n      <th>Matemática e ciências naturais</th>\n      <td>68744</td>\n      <td>3.32</td>\n    </tr>\n    <tr>\n      <th>Generalidades</th>\n      <td>62521</td>\n      <td>3.02</td>\n    </tr>\n    <tr>\n      <th>Religião</th>\n      <td>62295</td>\n      <td>3.01</td>\n    </tr>\n    <tr>\n      <th>Filosofia e psicologia</th>\n      <td>60563</td>\n      <td>2.92</td>\n    </tr>\n    <tr>\n      <th>Geografia. Biografia. História.</th>\n      <td>7989</td>\n      <td>0.39</td>\n    </tr>\n    <tr>\n      <th>Belas artes</th>\n      <td>7911</td>\n      <td>0.38</td>\n    </tr>\n    <tr>\n      <th>Linguagem</th>\n      <td>7490</td>\n      <td>0.36</td>\n    </tr>\n  </tbody>\n</table>\n</div>"
     },
     "execution_count": 43,
     "metadata": {},
     "output_type": "execute_result"
    }
   ],
   "source": [
    "contar_valores(df['CDU_geral'])"
   ],
   "metadata": {
    "collapsed": false,
    "ExecuteTime": {
     "end_time": "2023-10-23T20:16:42.884340300Z",
     "start_time": "2023-10-23T20:16:42.546281100Z"
    }
   }
  },
  {
   "cell_type": "code",
   "execution_count": 44,
   "outputs": [
    {
     "data": {
      "text/plain": "                                                    Quantidade  \\\nBiblioteca Central Zila Mamede                         1426122   \nBiblioteca Setorial do Centro Ciências da Saúde...      118614   \nBiblioteca Setorial da Faculdade de Ciências da...       77609   \nBiblioteca Setorial Prof. Alberto Moreira Campo...       66447   \nBiblioteca Setorial Profª. Maria Lúcia da Costa...       61478   \nBiblioteca Setorial Bertha Cruz Enders - ­Escol...       46040   \nBiblioteca Setorial do Centro de Ciências Human...       40744   \nBiblioteca Setorial Dr. Paulo Bezerra - EMCM/RN...       32097   \nBiblioteca Setorial Profª. Maria José Mamede Ga...       29089   \nBiblioteca Setorial Prof. Rodolfo Helinski - Es...       27219   \nBiblioteca Setorial Prof. Francisco Gurgel De A...       26923   \nBiblioteca Setorial do Núcleo de Educação da In...       23656   \nBiblioteca Setorial Prof. Ronaldo Xavier de Arr...       22749   \nBiblioteca Setorial Pe. Jaime Diniz - Escola de...       21476   \nBiblioteca Setorial do Departamento de Artes - ...       17099   \nBiblioteca Setorial Prof. Leopoldo Nelson - ­Ce...       12900   \nBiblioteca Setorial do Centro Ciências Sociais ...       10533   \nBiblioteca Setorial Prof. Dr. Marcelo Bezerra d...        5057   \nBiblioteca Setorial Prof. Horácio Nicolas Solim...        4098   \nBiblioteca Setorial Moacyr de Góes - CE                   1036   \nBiblioteca Setorial Árvore do Conhecimento - In...         919   \nBiblioteca Setorial do Núcleo de Ensino Superio...         617   \n\n                                                    Porcentagem (%)  \nBiblioteca Central Zila Mamede                                68.81  \nBiblioteca Setorial do Centro Ciências da Saúde...             5.72  \nBiblioteca Setorial da Faculdade de Ciências da...             3.74  \nBiblioteca Setorial Prof. Alberto Moreira Campo...             3.21  \nBiblioteca Setorial Profª. Maria Lúcia da Costa...             2.97  \nBiblioteca Setorial Bertha Cruz Enders - ­Escol...             2.22  \nBiblioteca Setorial do Centro de Ciências Human...             1.97  \nBiblioteca Setorial Dr. Paulo Bezerra - EMCM/RN...             1.55  \nBiblioteca Setorial Profª. Maria José Mamede Ga...             1.40  \nBiblioteca Setorial Prof. Rodolfo Helinski - Es...             1.31  \nBiblioteca Setorial Prof. Francisco Gurgel De A...             1.30  \nBiblioteca Setorial do Núcleo de Educação da In...             1.14  \nBiblioteca Setorial Prof. Ronaldo Xavier de Arr...             1.10  \nBiblioteca Setorial Pe. Jaime Diniz - Escola de...             1.04  \nBiblioteca Setorial do Departamento de Artes - ...             0.83  \nBiblioteca Setorial Prof. Leopoldo Nelson - ­Ce...             0.62  \nBiblioteca Setorial do Centro Ciências Sociais ...             0.51  \nBiblioteca Setorial Prof. Dr. Marcelo Bezerra d...             0.24  \nBiblioteca Setorial Prof. Horácio Nicolas Solim...             0.20  \nBiblioteca Setorial Moacyr de Góes - CE                        0.05  \nBiblioteca Setorial Árvore do Conhecimento - In...             0.04  \nBiblioteca Setorial do Núcleo de Ensino Superio...             0.03  ",
      "text/html": "<div>\n<style scoped>\n    .dataframe tbody tr th:only-of-type {\n        vertical-align: middle;\n    }\n\n    .dataframe tbody tr th {\n        vertical-align: top;\n    }\n\n    .dataframe thead th {\n        text-align: right;\n    }\n</style>\n<table border=\"1\" class=\"dataframe\">\n  <thead>\n    <tr style=\"text-align: right;\">\n      <th></th>\n      <th>Quantidade</th>\n      <th>Porcentagem (%)</th>\n    </tr>\n  </thead>\n  <tbody>\n    <tr>\n      <th>Biblioteca Central Zila Mamede</th>\n      <td>1426122</td>\n      <td>68.81</td>\n    </tr>\n    <tr>\n      <th>Biblioteca Setorial do Centro Ciências da Saúde - CCS</th>\n      <td>118614</td>\n      <td>5.72</td>\n    </tr>\n    <tr>\n      <th>Biblioteca Setorial da Faculdade de Ciências da Saúde do Trairi - FACISA - Santa Cruz</th>\n      <td>77609</td>\n      <td>3.74</td>\n    </tr>\n    <tr>\n      <th>Biblioteca Setorial Prof. Alberto Moreira Campos - ­Departamento de Odontologia</th>\n      <td>66447</td>\n      <td>3.21</td>\n    </tr>\n    <tr>\n      <th>Biblioteca Setorial Profª. Maria Lúcia da Costa Bezerra - ­CERES­ - Caicó</th>\n      <td>61478</td>\n      <td>2.97</td>\n    </tr>\n    <tr>\n      <th>Biblioteca Setorial Bertha Cruz Enders - ­Escola de Saúde da UFRN - ESUFRN</th>\n      <td>46040</td>\n      <td>2.22</td>\n    </tr>\n    <tr>\n      <th>Biblioteca Setorial do Centro de Ciências Humanas, Letras e Artes - CCHLA</th>\n      <td>40744</td>\n      <td>1.97</td>\n    </tr>\n    <tr>\n      <th>Biblioteca Setorial Dr. Paulo Bezerra - EMCM/RN - Caicó</th>\n      <td>32097</td>\n      <td>1.55</td>\n    </tr>\n    <tr>\n      <th>Biblioteca Setorial Profª. Maria José Mamede Galvão - FELCS - Currais Novos</th>\n      <td>29089</td>\n      <td>1.40</td>\n    </tr>\n    <tr>\n      <th>Biblioteca Setorial Prof. Rodolfo Helinski - Escola Agrícola de Jundiaí - EAJ  - Macaiba</th>\n      <td>27219</td>\n      <td>1.31</td>\n    </tr>\n    <tr>\n      <th>Biblioteca Setorial Prof. Francisco Gurgel De Azevedo - Instituto Química - IQ</th>\n      <td>26923</td>\n      <td>1.30</td>\n    </tr>\n    <tr>\n      <th>Biblioteca Setorial do Núcleo de Educação da Infância - NEI</th>\n      <td>23656</td>\n      <td>1.14</td>\n    </tr>\n    <tr>\n      <th>Biblioteca Setorial Prof. Ronaldo Xavier de Arruda - CCET</th>\n      <td>22749</td>\n      <td>1.10</td>\n    </tr>\n    <tr>\n      <th>Biblioteca Setorial Pe. Jaime Diniz - Escola de Música - EMUFRN</th>\n      <td>21476</td>\n      <td>1.04</td>\n    </tr>\n    <tr>\n      <th>Biblioteca Setorial do Departamento de Artes - DEART</th>\n      <td>17099</td>\n      <td>0.83</td>\n    </tr>\n    <tr>\n      <th>Biblioteca Setorial Prof. Leopoldo Nelson - ­Centro de Biociências - CB</th>\n      <td>12900</td>\n      <td>0.62</td>\n    </tr>\n    <tr>\n      <th>Biblioteca Setorial do Centro Ciências Sociais Aplicadas - CCSA</th>\n      <td>10533</td>\n      <td>0.51</td>\n    </tr>\n    <tr>\n      <th>Biblioteca Setorial Prof. Dr. Marcelo Bezerra de Melo Tinôco - DARQ - ­CT</th>\n      <td>5057</td>\n      <td>0.24</td>\n    </tr>\n    <tr>\n      <th>Biblioteca Setorial Prof. Horácio Nicolas Solimo - ­ Engenharia Química - EQ - CT</th>\n      <td>4098</td>\n      <td>0.20</td>\n    </tr>\n    <tr>\n      <th>Biblioteca Setorial Moacyr de Góes - CE</th>\n      <td>1036</td>\n      <td>0.05</td>\n    </tr>\n    <tr>\n      <th>Biblioteca Setorial Árvore do Conhecimento - Instituto do Cérebro - ICe</th>\n      <td>919</td>\n      <td>0.04</td>\n    </tr>\n    <tr>\n      <th>Biblioteca Setorial do Núcleo de Ensino Superior do Agreste - NESA - Nova Cruz</th>\n      <td>617</td>\n      <td>0.03</td>\n    </tr>\n  </tbody>\n</table>\n</div>"
     },
     "execution_count": 44,
     "metadata": {},
     "output_type": "execute_result"
    }
   ],
   "source": [
    "contar_valores(df['biblioteca'])"
   ],
   "metadata": {
    "collapsed": false,
    "ExecuteTime": {
     "end_time": "2023-10-23T20:16:43.235230400Z",
     "start_time": "2023-10-23T20:16:42.865341200Z"
    }
   }
  },
  {
   "cell_type": "code",
   "execution_count": 45,
   "outputs": [
    {
     "data": {
      "text/plain": "                                       Quantidade  Porcentagem (%)\nAcervo Circulante                         2053120            99.06\nMultimeios                                   7954             0.38\nMonografias                                  4021             0.19\nDissertações                                 2406             0.12\nObras de Referência                          1954             0.09\nPublicações de Autores do RN                  866             0.04\nPublicações da UFRN                           764             0.04\nTeses                                         714             0.03\nFolhetos                                      271             0.01\nNecessidades Educacionais Específicas         130             0.01\nTrabalho Acadêmico                            115             0.01\nEventos                                       101             0.00\nColeção Mossoroense                            44             0.00\nColeção Zila Mamede                            30             0.00\nLiteratura de Cordel                           24             0.00\nObras Raras                                     8             0.00",
      "text/html": "<div>\n<style scoped>\n    .dataframe tbody tr th:only-of-type {\n        vertical-align: middle;\n    }\n\n    .dataframe tbody tr th {\n        vertical-align: top;\n    }\n\n    .dataframe thead th {\n        text-align: right;\n    }\n</style>\n<table border=\"1\" class=\"dataframe\">\n  <thead>\n    <tr style=\"text-align: right;\">\n      <th></th>\n      <th>Quantidade</th>\n      <th>Porcentagem (%)</th>\n    </tr>\n  </thead>\n  <tbody>\n    <tr>\n      <th>Acervo Circulante</th>\n      <td>2053120</td>\n      <td>99.06</td>\n    </tr>\n    <tr>\n      <th>Multimeios</th>\n      <td>7954</td>\n      <td>0.38</td>\n    </tr>\n    <tr>\n      <th>Monografias</th>\n      <td>4021</td>\n      <td>0.19</td>\n    </tr>\n    <tr>\n      <th>Dissertações</th>\n      <td>2406</td>\n      <td>0.12</td>\n    </tr>\n    <tr>\n      <th>Obras de Referência</th>\n      <td>1954</td>\n      <td>0.09</td>\n    </tr>\n    <tr>\n      <th>Publicações de Autores do RN</th>\n      <td>866</td>\n      <td>0.04</td>\n    </tr>\n    <tr>\n      <th>Publicações da UFRN</th>\n      <td>764</td>\n      <td>0.04</td>\n    </tr>\n    <tr>\n      <th>Teses</th>\n      <td>714</td>\n      <td>0.03</td>\n    </tr>\n    <tr>\n      <th>Folhetos</th>\n      <td>271</td>\n      <td>0.01</td>\n    </tr>\n    <tr>\n      <th>Necessidades Educacionais Específicas</th>\n      <td>130</td>\n      <td>0.01</td>\n    </tr>\n    <tr>\n      <th>Trabalho Acadêmico</th>\n      <td>115</td>\n      <td>0.01</td>\n    </tr>\n    <tr>\n      <th>Eventos</th>\n      <td>101</td>\n      <td>0.00</td>\n    </tr>\n    <tr>\n      <th>Coleção Mossoroense</th>\n      <td>44</td>\n      <td>0.00</td>\n    </tr>\n    <tr>\n      <th>Coleção Zila Mamede</th>\n      <td>30</td>\n      <td>0.00</td>\n    </tr>\n    <tr>\n      <th>Literatura de Cordel</th>\n      <td>24</td>\n      <td>0.00</td>\n    </tr>\n    <tr>\n      <th>Obras Raras</th>\n      <td>8</td>\n      <td>0.00</td>\n    </tr>\n  </tbody>\n</table>\n</div>"
     },
     "execution_count": 45,
     "metadata": {},
     "output_type": "execute_result"
    }
   ],
   "source": [
    "contar_valores(df['colecao'])"
   ],
   "metadata": {
    "collapsed": false,
    "ExecuteTime": {
     "end_time": "2023-10-23T20:16:43.582768800Z",
     "start_time": "2023-10-23T20:16:43.186231100Z"
    }
   }
  },
  {
   "cell_type": "markdown",
   "source": [
    "---\n",
    "<a id='conclusion'></a>\n",
    "## 4. Conclusão"
   ],
   "metadata": {
    "collapsed": false
   }
  },
  {
   "cell_type": "markdown",
   "metadata": {},
   "source": [
    "---\n",
    "<a id='references'></a>\n",
    "## Referências\n",
    "\n",
    "Alura - 7 Days of Code - Dados - Python Pandas:\n",
    "https://7daysofcode.io/matricula/pandas\n",
    " , acessado em 24/09/2023.\n",
    "\n",
    "Github - FranciscoFoz - 7_Days_of_Code_Alura-Python-Pandas:\n",
    "https://github.com/FranciscoFoz/7_Days_of_Code_Alura-Python-Pandas/tree/main\n",
    " , acessado em 24/09/2023."
   ]
  },
  {
   "cell_type": "markdown",
   "metadata": {},
   "source": [
    "---\n",
    "<div style=\"text-align: center\"> Copyright &copy; 2023 | Leonardo Simões | All Rights Reserved </div>\n",
    "\n",
    "---"
   ]
  }
 ],
 "metadata": {
  "kernelspec": {
   "display_name": "Python 3 (ipykernel)",
   "language": "python",
   "name": "python3"
  },
  "language_info": {
   "codemirror_mode": {
    "name": "ipython",
    "version": 3
   },
   "file_extension": ".py",
   "mimetype": "text/x-python",
   "name": "python",
   "nbconvert_exporter": "python",
   "pygments_lexer": "ipython3",
   "version": "3.11.2"
  }
 },
 "nbformat": 4,
 "nbformat_minor": 1
}
