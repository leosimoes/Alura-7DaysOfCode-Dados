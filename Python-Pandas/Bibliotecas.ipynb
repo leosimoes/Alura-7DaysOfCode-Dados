{
 "cells": [
  {
   "cell_type": "markdown",
   "metadata": {},
   "source": [
    "# Alura - 7 Days of Code - Dados - Machine Learning\n",
    "\n",
    "![7DayOfCode-Logo](../imgs/7DaysOfCode-Logo.jpg)\n",
    "\n",
    "Autor: Leonardo Simões"
   ]
  },
  {
   "cell_type": "markdown",
   "metadata": {},
   "source": [
    "---\n",
    "## Sumário\n",
    "- [1.Introdução](#introduction)\n",
    "- [2.Objetivo](#objectives)\n",
    "- [3.Desenvolvimento](#development)\n",
    "- [4.Conclusão](#conclusion)\n",
    "- [Referências](#references)"
   ]
  },
  {
   "cell_type": "markdown",
   "metadata": {},
   "source": [
    "---\n",
    "<a id='introduction'></a>\n",
    "## 1. Introdução\n",
    "\n",
    "Durante os 7 Days de Python Pandas, você vai treinar suas habilidades de manipulação, visualização e análise de dados utilizando Python Pandas.\n"
   ]
  },
  {
   "cell_type": "markdown",
   "metadata": {},
   "source": [
    "---\n",
    "<a id='objectives'></a>\n",
    "## 2. Objetivo\n",
    "\n",
    "O objetivo será explorar os dados de empréstimos dos acervos do sistema de bibliotecas da UFRN e, para isso, você passará por diversas funcionalidades que o Pandas pode oferecer, desde a importação de diversos formatos de dados, agregações, divisões e transformações de tabelas, e até a exportação de tabelas estilizadas com sua análise pronta para ser inserida em alguma aplicação."
   ]
  },
  {
   "cell_type": "markdown",
   "metadata": {},
   "source": [
    "---\n",
    "<a id='development'></a>\n",
    "## 3. Desenvolvimento"
   ]
  },
  {
   "cell_type": "markdown",
   "source": [
    "---\n",
    "<a id='day_1'></a>\n",
    "### 3.1. Dia 1"
   ],
   "metadata": {
    "collapsed": false
   }
  },
  {
   "cell_type": "code",
   "execution_count": 1,
   "metadata": {
    "ExecuteTime": {
     "end_time": "2023-09-28T23:36:55.400029900Z",
     "start_time": "2023-09-28T23:36:55.389539600Z"
    }
   },
   "outputs": [
    {
     "name": "stdout",
     "output_type": "stream",
     "text": [
      "Versão do Python:  3.11.2\n"
     ]
    }
   ],
   "source": [
    "# Verificação da versão do Python\n",
    "from platform import python_version\n",
    "print('Versão do Python: ', python_version())"
   ]
  },
  {
   "cell_type": "code",
   "execution_count": 2,
   "metadata": {
    "ExecuteTime": {
     "end_time": "2023-09-28T23:36:56.366922600Z",
     "start_time": "2023-09-28T23:36:55.403030Z"
    }
   },
   "outputs": [],
   "source": [
    "# Imports das bibliotecas mais usadas\n",
    "import os\n",
    "import glob\n",
    "import pandas as pd"
   ]
  },
  {
   "cell_type": "code",
   "execution_count": 3,
   "metadata": {
    "ExecuteTime": {
     "end_time": "2023-09-28T23:36:56.383053800Z",
     "start_time": "2023-09-28T23:36:56.367922800Z"
    }
   },
   "outputs": [],
   "source": [
    "# Alterar a exibição de float para duas casas decimais\n",
    "pd.options.display.float_format = '{:.2f}'.format"
   ]
  },
  {
   "cell_type": "code",
   "execution_count": 4,
   "metadata": {
    "ExecuteTime": {
     "end_time": "2023-09-28T23:36:56.390051900Z",
     "start_time": "2023-09-28T23:36:56.376556100Z"
    }
   },
   "outputs": [
    {
     "name": "stdout",
     "output_type": "stream",
     "text": [
      "Pandas versão 1.5.3\n"
     ]
    }
   ],
   "source": [
    "# Versões das bibliotecas mais usadas\n",
    "print('Pandas versão ' + pd.__version__)"
   ]
  },
  {
   "cell_type": "code",
   "execution_count": 5,
   "outputs": [],
   "source": [
    "# Função para carregar os dados de todos os arquivos csv de uma pasta\n",
    "def carregar_dados_csv(pasta = 'dados'):\n",
    "    \n",
    "    # Obtenha a lista de arquivos CSV na pasta\n",
    "    arquivos_csv = glob.glob(os.path.join(pasta, '*.csv'))\n",
    "\n",
    "    # Verifique o caminho completo para a pasta\n",
    "    # caminho_completo = os.path.join(os.getcwd(), pasta)\n",
    "    \n",
    "    # Obtenha a lista de arquivos CSV na pasta\n",
    "    # arquivos_csv = glob.glob(os.path.join(caminho_completo, '*.csv'))\n",
    "    \n",
    "    # Verifique se existem arquivos CSV na pasta\n",
    "    if not arquivos_csv:\n",
    "        print(\"Nenhum arquivo CSV encontrado na pasta.\")\n",
    "        # print(f\"Nenhum arquivo CSV encontrado na pasta {caminho_completo}.\")\n",
    "        \n",
    "        return None\n",
    "    else:\n",
    "        # Carregue o primeiro arquivo CSV em um DataFrame inicial\n",
    "        df = pd.read_csv(arquivos_csv[0])\n",
    "        \n",
    "        # Itere sobre os demais arquivos CSV e concatene-os no DataFrame inicial\n",
    "        for arquivo in arquivos_csv[1:]:\n",
    "            df_temp = pd.read_csv(arquivo)\n",
    "            df = pd.concat([df, df_temp], ignore_index=True)\n",
    "        \n",
    "        # Remove valores duplicados\n",
    "        df.drop_duplicates(inplace=True)\n",
    "        assert df.duplicated().sum() == 0\n",
    "\n",
    "        return df"
   ],
   "metadata": {
    "collapsed": false,
    "ExecuteTime": {
     "end_time": "2023-09-28T23:36:56.441410700Z",
     "start_time": "2023-09-28T23:36:56.391051900Z"
    }
   }
  },
  {
   "cell_type": "code",
   "execution_count": 6,
   "outputs": [
    {
     "data": {
      "text/plain": "   id_emprestimo codigo_barras                 data_renovacao  \\\n0         709684       L095049                            NaN   \n1         709685       L167050                            NaN   \n2         709686    2006017618  2010/01/26 08:07:01.738000000   \n3         709687       L184117  2010/01/18 11:07:46.470000000   \n8         709688    2007027500  2010/01/19 15:59:26.464000000   \n\n                 data_emprestimo                 data_devolucao  \\\n0  2010/01/04 07:44:10.721000000  2010/01/05 16:26:12.662000000   \n1  2010/01/04 07:44:10.750000000  2010/01/12 07:34:13.934000000   \n2  2010/01/04 08:08:44.081000000  2010/02/25 07:36:25.800000000   \n3  2010/01/04 08:24:21.284000000  2010/02/03 08:58:45.692000000   \n8  2010/01/04 08:27:33.569000000  2010/02/03 13:06:30.662000000   \n\n   matricula_ou_siape    tipo_vinculo_usuario  \n0       2008023265.00      ALUNO DE GRADUAÇÃO  \n1       2008023265.00      ALUNO DE GRADUAÇÃO  \n2       2008112114.00  ALUNO DE PÓS-GRADUAÇÃO  \n3        200721119.00      ALUNO DE GRADUAÇÃO  \n8       2009045971.00      ALUNO DE GRADUAÇÃO  ",
      "text/html": "<div>\n<style scoped>\n    .dataframe tbody tr th:only-of-type {\n        vertical-align: middle;\n    }\n\n    .dataframe tbody tr th {\n        vertical-align: top;\n    }\n\n    .dataframe thead th {\n        text-align: right;\n    }\n</style>\n<table border=\"1\" class=\"dataframe\">\n  <thead>\n    <tr style=\"text-align: right;\">\n      <th></th>\n      <th>id_emprestimo</th>\n      <th>codigo_barras</th>\n      <th>data_renovacao</th>\n      <th>data_emprestimo</th>\n      <th>data_devolucao</th>\n      <th>matricula_ou_siape</th>\n      <th>tipo_vinculo_usuario</th>\n    </tr>\n  </thead>\n  <tbody>\n    <tr>\n      <th>0</th>\n      <td>709684</td>\n      <td>L095049</td>\n      <td>NaN</td>\n      <td>2010/01/04 07:44:10.721000000</td>\n      <td>2010/01/05 16:26:12.662000000</td>\n      <td>2008023265.00</td>\n      <td>ALUNO DE GRADUAÇÃO</td>\n    </tr>\n    <tr>\n      <th>1</th>\n      <td>709685</td>\n      <td>L167050</td>\n      <td>NaN</td>\n      <td>2010/01/04 07:44:10.750000000</td>\n      <td>2010/01/12 07:34:13.934000000</td>\n      <td>2008023265.00</td>\n      <td>ALUNO DE GRADUAÇÃO</td>\n    </tr>\n    <tr>\n      <th>2</th>\n      <td>709686</td>\n      <td>2006017618</td>\n      <td>2010/01/26 08:07:01.738000000</td>\n      <td>2010/01/04 08:08:44.081000000</td>\n      <td>2010/02/25 07:36:25.800000000</td>\n      <td>2008112114.00</td>\n      <td>ALUNO DE PÓS-GRADUAÇÃO</td>\n    </tr>\n    <tr>\n      <th>3</th>\n      <td>709687</td>\n      <td>L184117</td>\n      <td>2010/01/18 11:07:46.470000000</td>\n      <td>2010/01/04 08:24:21.284000000</td>\n      <td>2010/02/03 08:58:45.692000000</td>\n      <td>200721119.00</td>\n      <td>ALUNO DE GRADUAÇÃO</td>\n    </tr>\n    <tr>\n      <th>8</th>\n      <td>709688</td>\n      <td>2007027500</td>\n      <td>2010/01/19 15:59:26.464000000</td>\n      <td>2010/01/04 08:27:33.569000000</td>\n      <td>2010/02/03 13:06:30.662000000</td>\n      <td>2009045971.00</td>\n      <td>ALUNO DE GRADUAÇÃO</td>\n    </tr>\n  </tbody>\n</table>\n</div>"
     },
     "execution_count": 6,
     "metadata": {},
     "output_type": "execute_result"
    }
   ],
   "source": [
    "# Carrega os dados de todos os arquivos csv de uma pasta em um único dataframe\n",
    "df1 = carregar_dados_csv()\n",
    "df1.head()"
   ],
   "metadata": {
    "collapsed": false,
    "ExecuteTime": {
     "end_time": "2023-09-28T23:37:23.960448100Z",
     "start_time": "2023-09-28T23:36:56.396407200Z"
    }
   }
  },
  {
   "cell_type": "code",
   "execution_count": 7,
   "outputs": [
    {
     "data": {
      "text/plain": "(2257981, 7)"
     },
     "execution_count": 7,
     "metadata": {},
     "output_type": "execute_result"
    }
   ],
   "source": [
    "# Exibe as dimensões de df\n",
    "df1.shape"
   ],
   "metadata": {
    "collapsed": false,
    "ExecuteTime": {
     "end_time": "2023-09-28T23:37:23.994096500Z",
     "start_time": "2023-09-28T23:37:23.960448100Z"
    }
   }
  },
  {
   "cell_type": "code",
   "execution_count": 8,
   "outputs": [
    {
     "name": "stdout",
     "output_type": "stream",
     "text": [
      "<class 'pandas.core.frame.DataFrame'>\n",
      "Int64Index: 2257981 entries, 0 to 2258017\n",
      "Data columns (total 7 columns):\n",
      " #   Column                Dtype  \n",
      "---  ------                -----  \n",
      " 0   id_emprestimo         int64  \n",
      " 1   codigo_barras         object \n",
      " 2   data_renovacao        object \n",
      " 3   data_emprestimo       object \n",
      " 4   data_devolucao        object \n",
      " 5   matricula_ou_siape    float64\n",
      " 6   tipo_vinculo_usuario  object \n",
      "dtypes: float64(1), int64(1), object(5)\n",
      "memory usage: 137.8+ MB\n"
     ]
    }
   ],
   "source": [
    "# Informações do DataFrame\n",
    "df1.info()"
   ],
   "metadata": {
    "collapsed": false,
    "ExecuteTime": {
     "end_time": "2023-09-28T23:37:24.054095800Z",
     "start_time": "2023-09-28T23:37:23.971757Z"
    }
   }
  },
  {
   "cell_type": "code",
   "execution_count": 9,
   "outputs": [
    {
     "data": {
      "text/plain": "id_emprestimo                 0\ncodigo_barras                 0\ndata_renovacao          1285709\ndata_emprestimo               0\ndata_devolucao             6471\nmatricula_ou_siape         3170\ntipo_vinculo_usuario          0\ndtype: int64"
     },
     "execution_count": 9,
     "metadata": {},
     "output_type": "execute_result"
    }
   ],
   "source": [
    "# Exibe valores nulos por coluna\n",
    "df1.isna().sum()"
   ],
   "metadata": {
    "collapsed": false,
    "ExecuteTime": {
     "end_time": "2023-09-28T23:37:26.824000100Z",
     "start_time": "2023-09-28T23:37:23.986093900Z"
    }
   }
  },
  {
   "cell_type": "code",
   "execution_count": 10,
   "outputs": [],
   "source": [
    "# Função para carregar os dados no arquivo parquet\n",
    "def carregar_dados_parquet(arquivo='dados/dados_exemplares.parquet'):\n",
    "    df = pd.read_parquet(arquivo)\n",
    "    \n",
    "    assert df.isna().sum().sum() == 0\n",
    "    assert df.duplicated().sum() == 0\n",
    "        \n",
    "    return df"
   ],
   "metadata": {
    "collapsed": false,
    "ExecuteTime": {
     "end_time": "2023-09-28T23:37:26.848165600Z",
     "start_time": "2023-09-28T23:37:26.831001Z"
    }
   }
  },
  {
   "cell_type": "code",
   "execution_count": 11,
   "outputs": [
    {
     "data": {
      "text/plain": "       id_exemplar codigo_barras            colecao  \\\nindex                                                 \n0                5       L000003  Acervo Circulante   \n1                4       L000002  Acervo Circulante   \n2                3       L000001  Acervo Circulante   \n3                7       L000114  Acervo Circulante   \n5               10       L000041  Acervo Circulante   \n\n                           biblioteca status_material  localizacao  \\\nindex                                                                \n0      Biblioteca Central Zila Mamede         REGULAR          694   \n1      Biblioteca Central Zila Mamede         REGULAR          688   \n2      Biblioteca Central Zila Mamede        ESPECIAL          638   \n3      Biblioteca Central Zila Mamede         REGULAR          616   \n5      Biblioteca Central Zila Mamede        ESPECIAL          657   \n\n       registro_sistema  \nindex                    \n0                     1  \n1                     1  \n2                     1  \n3                     5  \n5                    15  ",
      "text/html": "<div>\n<style scoped>\n    .dataframe tbody tr th:only-of-type {\n        vertical-align: middle;\n    }\n\n    .dataframe tbody tr th {\n        vertical-align: top;\n    }\n\n    .dataframe thead th {\n        text-align: right;\n    }\n</style>\n<table border=\"1\" class=\"dataframe\">\n  <thead>\n    <tr style=\"text-align: right;\">\n      <th></th>\n      <th>id_exemplar</th>\n      <th>codigo_barras</th>\n      <th>colecao</th>\n      <th>biblioteca</th>\n      <th>status_material</th>\n      <th>localizacao</th>\n      <th>registro_sistema</th>\n    </tr>\n    <tr>\n      <th>index</th>\n      <th></th>\n      <th></th>\n      <th></th>\n      <th></th>\n      <th></th>\n      <th></th>\n      <th></th>\n    </tr>\n  </thead>\n  <tbody>\n    <tr>\n      <th>0</th>\n      <td>5</td>\n      <td>L000003</td>\n      <td>Acervo Circulante</td>\n      <td>Biblioteca Central Zila Mamede</td>\n      <td>REGULAR</td>\n      <td>694</td>\n      <td>1</td>\n    </tr>\n    <tr>\n      <th>1</th>\n      <td>4</td>\n      <td>L000002</td>\n      <td>Acervo Circulante</td>\n      <td>Biblioteca Central Zila Mamede</td>\n      <td>REGULAR</td>\n      <td>688</td>\n      <td>1</td>\n    </tr>\n    <tr>\n      <th>2</th>\n      <td>3</td>\n      <td>L000001</td>\n      <td>Acervo Circulante</td>\n      <td>Biblioteca Central Zila Mamede</td>\n      <td>ESPECIAL</td>\n      <td>638</td>\n      <td>1</td>\n    </tr>\n    <tr>\n      <th>3</th>\n      <td>7</td>\n      <td>L000114</td>\n      <td>Acervo Circulante</td>\n      <td>Biblioteca Central Zila Mamede</td>\n      <td>REGULAR</td>\n      <td>616</td>\n      <td>5</td>\n    </tr>\n    <tr>\n      <th>5</th>\n      <td>10</td>\n      <td>L000041</td>\n      <td>Acervo Circulante</td>\n      <td>Biblioteca Central Zila Mamede</td>\n      <td>ESPECIAL</td>\n      <td>657</td>\n      <td>15</td>\n    </tr>\n  </tbody>\n</table>\n</div>"
     },
     "execution_count": 11,
     "metadata": {},
     "output_type": "execute_result"
    }
   ],
   "source": [
    "# Carrega os dados do arquivo parquet\n",
    "df2 = carregar_dados_parquet()\n",
    "df2.head()"
   ],
   "metadata": {
    "collapsed": false,
    "ExecuteTime": {
     "end_time": "2023-09-28T23:37:28.987108200Z",
     "start_time": "2023-09-28T23:37:26.840159600Z"
    }
   }
  },
  {
   "cell_type": "code",
   "execution_count": 12,
   "outputs": [],
   "source": [
    "# Função para unir dois dataframes com merge (interseção)\n",
    "def unir_dataframes(df1, df2):\n",
    "    df = df1.merge(df2)\n",
    "    assert df.duplicated().sum() == 0\n",
    "    \n",
    "    return df"
   ],
   "metadata": {
    "collapsed": false,
    "ExecuteTime": {
     "end_time": "2023-09-28T23:37:28.988106200Z",
     "start_time": "2023-09-28T23:37:28.967080900Z"
    }
   }
  },
  {
   "cell_type": "code",
   "execution_count": 13,
   "outputs": [
    {
     "data": {
      "text/plain": "   id_emprestimo codigo_barras                 data_renovacao  \\\n0         709684       L095049                            NaN   \n1         726965       L095049  2010/03/31 12:41:08.684000000   \n2         709685       L167050                            NaN   \n3         717763       L167050                            NaN   \n4         729996       L167050  2010/03/17 09:08:26.874000000   \n\n                 data_emprestimo                 data_devolucao  \\\n0  2010/01/04 07:44:10.721000000  2010/01/05 16:26:12.662000000   \n1  2010/03/01 12:40:56.212000000  2010/04/30 14:42:35.366000000   \n2  2010/01/04 07:44:10.750000000  2010/01/12 07:34:13.934000000   \n3  2010/02/11 11:16:30.335000000  2010/03/04 08:54:32.262000000   \n4  2010/03/04 13:36:26.599000000  2010/03/31 18:04:29.669000000   \n\n   matricula_ou_siape    tipo_vinculo_usuario  id_exemplar            colecao  \\\n0       2008023265.00      ALUNO DE GRADUAÇÃO        13259  Acervo Circulante   \n1       2009121584.00  ALUNO DE PÓS-GRADUAÇÃO        13259  Acervo Circulante   \n2       2008023265.00      ALUNO DE GRADUAÇÃO        70865  Acervo Circulante   \n3       2008050352.00      ALUNO DE GRADUAÇÃO        70865  Acervo Circulante   \n4        200722565.00      ALUNO DE GRADUAÇÃO        70865  Acervo Circulante   \n\n                       biblioteca status_material  localizacao  \\\n0  Biblioteca Central Zila Mamede         REGULAR          630   \n1  Biblioteca Central Zila Mamede         REGULAR          630   \n2  Biblioteca Central Zila Mamede         REGULAR          647   \n3  Biblioteca Central Zila Mamede         REGULAR          647   \n4  Biblioteca Central Zila Mamede         REGULAR          647   \n\n   registro_sistema  \n0              4225  \n1              4225  \n2             25009  \n3             25009  \n4             25009  ",
      "text/html": "<div>\n<style scoped>\n    .dataframe tbody tr th:only-of-type {\n        vertical-align: middle;\n    }\n\n    .dataframe tbody tr th {\n        vertical-align: top;\n    }\n\n    .dataframe thead th {\n        text-align: right;\n    }\n</style>\n<table border=\"1\" class=\"dataframe\">\n  <thead>\n    <tr style=\"text-align: right;\">\n      <th></th>\n      <th>id_emprestimo</th>\n      <th>codigo_barras</th>\n      <th>data_renovacao</th>\n      <th>data_emprestimo</th>\n      <th>data_devolucao</th>\n      <th>matricula_ou_siape</th>\n      <th>tipo_vinculo_usuario</th>\n      <th>id_exemplar</th>\n      <th>colecao</th>\n      <th>biblioteca</th>\n      <th>status_material</th>\n      <th>localizacao</th>\n      <th>registro_sistema</th>\n    </tr>\n  </thead>\n  <tbody>\n    <tr>\n      <th>0</th>\n      <td>709684</td>\n      <td>L095049</td>\n      <td>NaN</td>\n      <td>2010/01/04 07:44:10.721000000</td>\n      <td>2010/01/05 16:26:12.662000000</td>\n      <td>2008023265.00</td>\n      <td>ALUNO DE GRADUAÇÃO</td>\n      <td>13259</td>\n      <td>Acervo Circulante</td>\n      <td>Biblioteca Central Zila Mamede</td>\n      <td>REGULAR</td>\n      <td>630</td>\n      <td>4225</td>\n    </tr>\n    <tr>\n      <th>1</th>\n      <td>726965</td>\n      <td>L095049</td>\n      <td>2010/03/31 12:41:08.684000000</td>\n      <td>2010/03/01 12:40:56.212000000</td>\n      <td>2010/04/30 14:42:35.366000000</td>\n      <td>2009121584.00</td>\n      <td>ALUNO DE PÓS-GRADUAÇÃO</td>\n      <td>13259</td>\n      <td>Acervo Circulante</td>\n      <td>Biblioteca Central Zila Mamede</td>\n      <td>REGULAR</td>\n      <td>630</td>\n      <td>4225</td>\n    </tr>\n    <tr>\n      <th>2</th>\n      <td>709685</td>\n      <td>L167050</td>\n      <td>NaN</td>\n      <td>2010/01/04 07:44:10.750000000</td>\n      <td>2010/01/12 07:34:13.934000000</td>\n      <td>2008023265.00</td>\n      <td>ALUNO DE GRADUAÇÃO</td>\n      <td>70865</td>\n      <td>Acervo Circulante</td>\n      <td>Biblioteca Central Zila Mamede</td>\n      <td>REGULAR</td>\n      <td>647</td>\n      <td>25009</td>\n    </tr>\n    <tr>\n      <th>3</th>\n      <td>717763</td>\n      <td>L167050</td>\n      <td>NaN</td>\n      <td>2010/02/11 11:16:30.335000000</td>\n      <td>2010/03/04 08:54:32.262000000</td>\n      <td>2008050352.00</td>\n      <td>ALUNO DE GRADUAÇÃO</td>\n      <td>70865</td>\n      <td>Acervo Circulante</td>\n      <td>Biblioteca Central Zila Mamede</td>\n      <td>REGULAR</td>\n      <td>647</td>\n      <td>25009</td>\n    </tr>\n    <tr>\n      <th>4</th>\n      <td>729996</td>\n      <td>L167050</td>\n      <td>2010/03/17 09:08:26.874000000</td>\n      <td>2010/03/04 13:36:26.599000000</td>\n      <td>2010/03/31 18:04:29.669000000</td>\n      <td>200722565.00</td>\n      <td>ALUNO DE GRADUAÇÃO</td>\n      <td>70865</td>\n      <td>Acervo Circulante</td>\n      <td>Biblioteca Central Zila Mamede</td>\n      <td>REGULAR</td>\n      <td>647</td>\n      <td>25009</td>\n    </tr>\n  </tbody>\n</table>\n</div>"
     },
     "execution_count": 13,
     "metadata": {},
     "output_type": "execute_result"
    }
   ],
   "source": [
    "# Une dois dataframes\n",
    "df = unir_dataframes(df1, df2)\n",
    "df.head()"
   ],
   "metadata": {
    "collapsed": false,
    "ExecuteTime": {
     "end_time": "2023-09-28T23:37:40.865592200Z",
     "start_time": "2023-09-28T23:37:28.978106900Z"
    }
   }
  },
  {
   "cell_type": "code",
   "execution_count": 14,
   "outputs": [
    {
     "data": {
      "text/plain": "((2072522, 13), (2257981, 7), (546237, 7))"
     },
     "execution_count": 14,
     "metadata": {},
     "output_type": "execute_result"
    }
   ],
   "source": [
    "# Verfica as dimensões dos 3 dataframes\n",
    "df.shape, df1.shape, df2.shape"
   ],
   "metadata": {
    "collapsed": false,
    "ExecuteTime": {
     "end_time": "2023-09-28T23:37:40.868490500Z",
     "start_time": "2023-09-28T23:37:40.858010600Z"
    }
   }
  },
  {
   "cell_type": "markdown",
   "source": [
    "---\n",
    "<a id='day_2'></a>\n",
    "### 3.2. Dia 2"
   ],
   "metadata": {
    "collapsed": false
   }
  },
  {
   "cell_type": "code",
   "execution_count": 15,
   "outputs": [],
   "source": [
    "# Função que mapea o CDU por 'localização'\n",
    "def mapear_cdu_para_area(cdu):\n",
    "    if cdu < 100:\n",
    "        return 'Generalidades'\n",
    "    elif cdu < 200:\n",
    "        return 'Filosofia e psicologia'\n",
    "    elif cdu < 300:\n",
    "        return 'Religião'\n",
    "    elif cdu < 400:\n",
    "        return 'Ciências sociais'\n",
    "    elif cdu < 500:\n",
    "        return 'Classe vaga'\n",
    "    elif cdu < 600:\n",
    "        return 'Matemática e ciências naturais'\n",
    "    elif cdu < 700:\n",
    "        return 'Ciências aplicadas'\n",
    "    elif cdu < 800:\n",
    "        return 'Belas artes'\n",
    "    elif cdu < 900:\n",
    "        return 'Linguagem'\n",
    "    else:\n",
    "        return 'Geografia. Biografia. História.'"
   ],
   "metadata": {
    "collapsed": false,
    "ExecuteTime": {
     "end_time": "2023-09-28T23:37:40.955606800Z",
     "start_time": "2023-09-28T23:37:40.868490500Z"
    }
   }
  },
  {
   "cell_type": "code",
   "execution_count": 16,
   "outputs": [
    {
     "data": {
      "text/plain": "Index(['id_emprestimo', 'codigo_barras', 'data_renovacao', 'data_emprestimo',\n       'data_devolucao', 'matricula_ou_siape', 'tipo_vinculo_usuario',\n       'id_exemplar', 'colecao', 'biblioteca', 'status_material',\n       'localizacao', 'registro_sistema'],\n      dtype='object')"
     },
     "execution_count": 16,
     "metadata": {},
     "output_type": "execute_result"
    }
   ],
   "source": [
    "# Exibe as colunas de df\n",
    "df.columns"
   ],
   "metadata": {
    "collapsed": false,
    "ExecuteTime": {
     "end_time": "2023-09-28T23:37:40.990381700Z",
     "start_time": "2023-09-28T23:37:40.881300400Z"
    }
   }
  },
  {
   "cell_type": "code",
   "execution_count": 17,
   "outputs": [
    {
     "data": {
      "text/plain": "array(['Ciências aplicadas', 'Linguagem', 'Ciências sociais',\n       'Geografia. Biografia. História.',\n       'Matemática e ciências naturais', 'Religião', 'Generalidades',\n       'Filosofia e psicologia', 'Belas artes'], dtype=object)"
     },
     "execution_count": 17,
     "metadata": {},
     "output_type": "execute_result"
    }
   ],
   "source": [
    "# Cria coluna 'CDU_geral' a partir da coluna 'localizacao'\n",
    "df['CDU_geral'] = ''\n",
    "df['CDU_geral'] = df['localizacao'].apply(mapear_cdu_para_area)\n",
    "df['CDU_geral'].unique()"
   ],
   "metadata": {
    "collapsed": false,
    "ExecuteTime": {
     "end_time": "2023-09-28T23:37:42.241011Z",
     "start_time": "2023-09-28T23:37:40.893094600Z"
    }
   }
  },
  {
   "cell_type": "code",
   "execution_count": 18,
   "outputs": [],
   "source": [
    "# Verifica se a coluna 'CDU_geral' foi criada\n",
    "assert 'CDU_geral' in df.columns"
   ],
   "metadata": {
    "collapsed": false,
    "ExecuteTime": {
     "end_time": "2023-09-28T23:37:42.267420600Z",
     "start_time": "2023-09-28T23:37:42.241011Z"
    }
   }
  },
  {
   "cell_type": "code",
   "execution_count": 19,
   "outputs": [],
   "source": [
    "# Remove coluna 'registro_sistema'\n",
    "df.drop(columns=['registro_sistema'],inplace=True)"
   ],
   "metadata": {
    "collapsed": false,
    "ExecuteTime": {
     "end_time": "2023-09-28T23:37:42.856151700Z",
     "start_time": "2023-09-28T23:37:42.248416Z"
    }
   }
  },
  {
   "cell_type": "code",
   "execution_count": 20,
   "outputs": [],
   "source": [
    "# Verifica se a coluna 'registro_sistema' foi removida\n",
    "assert 'registro_sistema' not in df.columns"
   ],
   "metadata": {
    "collapsed": false,
    "ExecuteTime": {
     "end_time": "2023-09-28T23:37:42.879628600Z",
     "start_time": "2023-09-28T23:37:42.857152700Z"
    }
   }
  },
  {
   "cell_type": "code",
   "execution_count": 21,
   "outputs": [],
   "source": [
    "# Altera o tipo de 'matricula_ou_siape' para string\n",
    "df['matricula_ou_siape'] = df['matricula_ou_siape'].astype('string')"
   ],
   "metadata": {
    "collapsed": false,
    "ExecuteTime": {
     "end_time": "2023-09-28T23:37:45.861766900Z",
     "start_time": "2023-09-28T23:37:42.866628600Z"
    }
   }
  },
  {
   "cell_type": "code",
   "execution_count": 22,
   "outputs": [],
   "source": [
    "# Verifica se o tipo de 'matricula_ou_siape' é String\n",
    "assert df['matricula_ou_siape'].dtype == pd.StringDtype()"
   ],
   "metadata": {
    "collapsed": false,
    "ExecuteTime": {
     "end_time": "2023-09-28T23:37:48.301455200Z",
     "start_time": "2023-09-28T23:37:48.264387100Z"
    }
   }
  },
  {
   "cell_type": "markdown",
   "metadata": {},
   "source": [
    "---\n",
    "<a id='conclusion'></a>\n",
    "## 4. Conclusão"
   ]
  },
  {
   "cell_type": "markdown",
   "metadata": {},
   "source": [
    "---\n",
    "<a id='references'></a>\n",
    "## Referências\n",
    "\n",
    "Alura - 7 Days of Code - Dados - Python Pandas:\n",
    "https://7daysofcode.io/matricula/pandas\n",
    " , acessado em 24/09/2023.\n",
    "\n",
    "Github - FranciscoFoz - 7_Days_of_Code_Alura-Python-Pandas:\n",
    "https://github.com/FranciscoFoz/7_Days_of_Code_Alura-Python-Pandas/tree/main\n",
    " , acessado em 24/09/2023."
   ]
  },
  {
   "cell_type": "markdown",
   "metadata": {},
   "source": [
    "---\n",
    "<div style=\"text-align: center\"> Copyright &copy; 2023 | Leonardo Simões | All Rights Reserved </div>\n",
    "\n",
    "---"
   ]
  }
 ],
 "metadata": {
  "kernelspec": {
   "display_name": "Python 3 (ipykernel)",
   "language": "python",
   "name": "python3"
  },
  "language_info": {
   "codemirror_mode": {
    "name": "ipython",
    "version": 3
   },
   "file_extension": ".py",
   "mimetype": "text/x-python",
   "name": "python",
   "nbconvert_exporter": "python",
   "pygments_lexer": "ipython3",
   "version": "3.11.2"
  }
 },
 "nbformat": 4,
 "nbformat_minor": 1
}
