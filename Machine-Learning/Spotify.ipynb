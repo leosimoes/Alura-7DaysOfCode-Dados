{
 "cells": [
  {
   "cell_type": "markdown",
   "metadata": {},
   "source": [
    "# Alura - 7 Days of Code - Dados - Machine Learning\n",
    "\n",
    "![7DayOfCode-Logo](../imgs/7DaysOfCode-Logo.jpg)\n",
    "\n",
    "Autor: Leonardo Simões"
   ]
  },
  {
   "cell_type": "markdown",
   "metadata": {},
   "source": [
    "---\n",
    "## Sumário\n",
    "- [1.Introdução](#introduction)\n",
    "- [2.Objetivo](#objectives)\n",
    "- [3.Desenvolvimento](#development)\n",
    "    - [3.1.Dia 1](#day_1)\n",
    "    - [3.2.Dia 2](#day_2)\n",
    "    - [3.3.Dia 3](#day_3)\n",
    "- [4.Conclusão](#conclusion)\n",
    "- [Referências](#references)"
   ]
  },
  {
   "cell_type": "markdown",
   "metadata": {},
   "source": [
    "---\n",
    "<a id='introduction'></a>\n",
    "## 1. Introdução\n",
    "\n",
    "Durante os 7 Days of Code de Machine Learning, você vai treinar suas habilidades de manipulação, visualização e análise de dados utilizando Machine Learning. \n"
   ]
  },
  {
   "cell_type": "markdown",
   "metadata": {},
   "source": [
    "---\n",
    "<a id='objectives'></a>\n",
    "## 2. Objetivo\n",
    "\n",
    "O objetivo será analisar dados do Spotify, e aplicar técnicas de Machine Learning para prever a popularidade das músicas e, para isso, você passará por diversas etapas de um projeto de Machine Learning, desde a coleta de dados e análise exploratória até a validação dos modelos."
   ]
  },
  {
   "cell_type": "markdown",
   "metadata": {},
   "source": [
    "---\n",
    "<a id='development'></a>\n",
    "## 3. Desenvolvimento"
   ]
  },
  {
   "cell_type": "markdown",
   "source": [
    "---\n",
    "<a id='day_1'></a>\n",
    "### 3.1. Dia 1"
   ],
   "metadata": {
    "collapsed": false
   }
  },
  {
   "cell_type": "code",
   "execution_count": 1,
   "metadata": {
    "ExecuteTime": {
     "start_time": "2023-09-25T15:23:53.165929200Z"
    }
   },
   "outputs": [
    {
     "name": "stdout",
     "output_type": "stream",
     "text": [
      "Versão do Python:  3.11.2\n"
     ]
    }
   ],
   "source": [
    "# Verificação da versão do Python\n",
    "from platform import python_version\n",
    "print('Versão do Python: ', python_version())"
   ]
  },
  {
   "cell_type": "code",
   "execution_count": 2,
   "metadata": {
    "ExecuteTime": {
     "end_time": "2023-09-25T15:23:54.906577600Z",
     "start_time": "2023-09-25T15:23:53.173929600Z"
    }
   },
   "outputs": [],
   "source": [
    "# Imports das bibliotecas mais usadas\n",
    "import numpy as np\n",
    "import pandas as pd\n",
    "import matplotlib.pyplot as plt"
   ]
  },
  {
   "cell_type": "code",
   "execution_count": 3,
   "metadata": {
    "ExecuteTime": {
     "end_time": "2023-09-25T15:23:54.925558400Z",
     "start_time": "2023-09-25T15:23:54.909578100Z"
    }
   },
   "outputs": [],
   "source": [
    "# Alterar a exibição de float para duas casas decimais\n",
    "pd.options.display.float_format = '{:.2f}'.format"
   ]
  },
  {
   "cell_type": "code",
   "execution_count": 4,
   "metadata": {
    "ExecuteTime": {
     "end_time": "2023-09-25T15:23:54.944974800Z",
     "start_time": "2023-09-25T15:23:54.932618200Z"
    }
   },
   "outputs": [
    {
     "name": "stdout",
     "output_type": "stream",
     "text": [
      "Numpy versão 1.23.5\n",
      "Pandas versão 1.5.3\n"
     ]
    }
   ],
   "source": [
    "# Versões das bibliotecas mais usadas\n",
    "print('Numpy versão ' + np.__version__)\n",
    "print('Pandas versão ' + pd.__version__)"
   ]
  },
  {
   "cell_type": "code",
   "execution_count": 5,
   "outputs": [],
   "source": [
    "# Bibliotecas para criar o profile dos dados\n",
    "import pydantic\n",
    "from ydata_profiling import ProfileReport"
   ],
   "metadata": {
    "collapsed": false,
    "ExecuteTime": {
     "end_time": "2023-09-25T15:23:57.484252400Z",
     "start_time": "2023-09-25T15:23:54.947050300Z"
    }
   }
  },
  {
   "cell_type": "code",
   "execution_count": 6,
   "outputs": [
    {
     "name": "stdout",
     "output_type": "stream",
     "text": [
      "Pydantic versão 1.10.12\n"
     ]
    }
   ],
   "source": [
    "# A versão deve ser < 2\n",
    "print('Pydantic versão ' + pydantic.__version__)"
   ],
   "metadata": {
    "collapsed": false,
    "ExecuteTime": {
     "end_time": "2023-09-25T15:23:57.493031600Z",
     "start_time": "2023-09-25T15:23:57.487253500Z"
    }
   }
  },
  {
   "cell_type": "code",
   "execution_count": 7,
   "outputs": [],
   "source": [
    "# Biblioteca para divisão dos dados em treino e teste\n",
    "from sklearn.model_selection import train_test_split\n",
    "# from sklearn.model_selection import StratifiedKFold"
   ],
   "metadata": {
    "collapsed": false,
    "ExecuteTime": {
     "end_time": "2023-09-25T15:23:57.911903300Z",
     "start_time": "2023-09-25T15:23:57.493031600Z"
    }
   }
  },
  {
   "cell_type": "code",
   "execution_count": 8,
   "outputs": [],
   "source": [
    "# Biblioteca para construção do modelo de linha de base\n",
    "import sklearn as skl\n",
    "from sklearn.linear_model import LogisticRegression\n",
    "from sklearn.metrics import confusion_matrix, ConfusionMatrixDisplay"
   ],
   "metadata": {
    "collapsed": false,
    "ExecuteTime": {
     "end_time": "2023-09-25T15:23:58.080140700Z",
     "start_time": "2023-09-25T15:23:57.914902200Z"
    }
   }
  },
  {
   "cell_type": "code",
   "execution_count": 9,
   "outputs": [
    {
     "name": "stdout",
     "output_type": "stream",
     "text": [
      "1.2.2\n"
     ]
    }
   ],
   "source": [
    "print(skl.__version__)"
   ],
   "metadata": {
    "collapsed": false,
    "ExecuteTime": {
     "end_time": "2023-09-25T15:23:58.088712400Z",
     "start_time": "2023-09-25T15:23:58.083140100Z"
    }
   }
  },
  {
   "cell_type": "code",
   "execution_count": 10,
   "outputs": [],
   "source": [
    "generos_dict = {\n",
    "    'acoustic' : 'acústico',\n",
    "    'alternative' : 'alternativa',\n",
    "    'ambient' :  'ambiente',\n",
    "    'brazil' : 'brasileira',\n",
    "    'british' : 'britânico',\n",
    "    'children' : 'infantil',\n",
    "    'classical' : 'classica',\n",
    "    'comedy' : 'comedia',\n",
    "    'dancehall' : 'dança de salão',\n",
    "    'drum-and-bass' : 'bateria e baixo',\n",
    "    'electro' : 'eletrônica',\n",
    "    'electronic': 'eletrônica',\n",
    "    'garage' : 'garagem',\n",
    "    'german': 'alemã',\n",
    "    'indian' : 'indiana',\n",
    "    'iranian' : 'iraniana',\n",
    "    'kids' : 'infantil',\n",
    "    'latin' : 'latina',\n",
    "    'sad': 'triste',\n",
    "    'sleep': 'dormir',\n",
    "    'spanish' : 'espanhola',\n",
    "    'study' : 'estudo',\n",
    "    'swedish' : 'sueca',\n",
    "    'turkish': 'turca'\n",
    "}"
   ],
   "metadata": {
    "collapsed": false,
    "ExecuteTime": {
     "end_time": "2023-09-25T15:23:58.100042200Z",
     "start_time": "2023-09-25T15:23:58.093712Z"
    }
   }
  },
  {
   "cell_type": "code",
   "execution_count": 11,
   "outputs": [],
   "source": [
    "colunas = ['id_musica', 'artistas', 'nome_do_album', 'nome_da_faixa', 'popularidade', 'duracao_ms', 'explicito',  'dancabilidade', 'energia', 'chave', 'volume', 'modo', 'fala', 'acustica', 'instrumentalidade', 'vivacidade',  'valencia', 'tempo', 'assinatura_hora', 'gênero']"
   ],
   "metadata": {
    "collapsed": false,
    "ExecuteTime": {
     "end_time": "2023-09-25T15:23:58.119800100Z",
     "start_time": "2023-09-25T15:23:58.104025300Z"
    }
   }
  },
  {
   "cell_type": "code",
   "execution_count": 12,
   "outputs": [],
   "source": [
    "def carregar_dados(arquivo, colunas, generos_dict):\n",
    "    df = pd.read_csv(arquivo, index_col=0)\n",
    "    \n",
    "    df.columns = colunas\n",
    "    assert df.columns.tolist() == colunas\n",
    "    \n",
    "    df['gênero'].replace(generos_dict, inplace=True)\n",
    "    assert set(generos_dict.values()).issubset(set(df['gênero'].unique()))\n",
    "    \n",
    "    df.dropna(inplace=True)\n",
    "    assert df.isna().sum().sum() == 0\n",
    "    \n",
    "    df.drop_duplicates(inplace=True)\n",
    "    assert df.duplicated().sum() == 0\n",
    "\n",
    "    return df"
   ],
   "metadata": {
    "collapsed": false,
    "ExecuteTime": {
     "end_time": "2023-09-25T15:23:58.127818500Z",
     "start_time": "2023-09-25T15:23:58.113799800Z"
    }
   }
  },
  {
   "cell_type": "code",
   "execution_count": 13,
   "outputs": [
    {
     "data": {
      "text/plain": "                id_musica                artistas  \\\n0  5SuOikwiRyPMVoIQDJUgSV             Gen Hoshino   \n1  4qPNDBW1i3p13qLCt0Ki3A            Ben Woodward   \n2  1iJBSr7s7jYXzM8EGcbK5b  Ingrid Michaelson;ZAYN   \n3  6lfxq3CG4xtTiEg7opyCyx            Kina Grannis   \n4  5vjLSffimiIP26QG5WcN2K        Chord Overstreet   \n\n                                       nome_do_album  \\\n0                                             Comedy   \n1                                   Ghost (Acoustic)   \n2                                     To Begin Again   \n3  Crazy Rich Asians (Original Motion Picture Sou...   \n4                                            Hold On   \n\n                nome_da_faixa  popularidade  duracao_ms  explicito  \\\n0                      Comedy            73      230666      False   \n1            Ghost - Acoustic            55      149610      False   \n2              To Begin Again            57      210826      False   \n3  Can't Help Falling In Love            71      201933      False   \n4                     Hold On            82      198853      False   \n\n   dancabilidade  energia  chave  volume  modo  fala  acustica  \\\n0           0.68     0.46      1   -6.75     0  0.14      0.03   \n1           0.42     0.17      1  -17.23     1  0.08      0.92   \n2           0.44     0.36      0   -9.73     1  0.06      0.21   \n3           0.27     0.06      0  -18.52     1  0.04      0.91   \n4           0.62     0.44      2   -9.68     1  0.05      0.47   \n\n   instrumentalidade  vivacidade  valencia  tempo  assinatura_hora    gênero  \n0               0.00        0.36      0.71  87.92                4  acústico  \n1               0.00        0.10      0.27  77.49                4  acústico  \n2               0.00        0.12      0.12  76.33                4  acústico  \n3               0.00        0.13      0.14 181.74                3  acústico  \n4               0.00        0.08      0.17 119.95                4  acústico  ",
      "text/html": "<div>\n<style scoped>\n    .dataframe tbody tr th:only-of-type {\n        vertical-align: middle;\n    }\n\n    .dataframe tbody tr th {\n        vertical-align: top;\n    }\n\n    .dataframe thead th {\n        text-align: right;\n    }\n</style>\n<table border=\"1\" class=\"dataframe\">\n  <thead>\n    <tr style=\"text-align: right;\">\n      <th></th>\n      <th>id_musica</th>\n      <th>artistas</th>\n      <th>nome_do_album</th>\n      <th>nome_da_faixa</th>\n      <th>popularidade</th>\n      <th>duracao_ms</th>\n      <th>explicito</th>\n      <th>dancabilidade</th>\n      <th>energia</th>\n      <th>chave</th>\n      <th>volume</th>\n      <th>modo</th>\n      <th>fala</th>\n      <th>acustica</th>\n      <th>instrumentalidade</th>\n      <th>vivacidade</th>\n      <th>valencia</th>\n      <th>tempo</th>\n      <th>assinatura_hora</th>\n      <th>gênero</th>\n    </tr>\n  </thead>\n  <tbody>\n    <tr>\n      <th>0</th>\n      <td>5SuOikwiRyPMVoIQDJUgSV</td>\n      <td>Gen Hoshino</td>\n      <td>Comedy</td>\n      <td>Comedy</td>\n      <td>73</td>\n      <td>230666</td>\n      <td>False</td>\n      <td>0.68</td>\n      <td>0.46</td>\n      <td>1</td>\n      <td>-6.75</td>\n      <td>0</td>\n      <td>0.14</td>\n      <td>0.03</td>\n      <td>0.00</td>\n      <td>0.36</td>\n      <td>0.71</td>\n      <td>87.92</td>\n      <td>4</td>\n      <td>acústico</td>\n    </tr>\n    <tr>\n      <th>1</th>\n      <td>4qPNDBW1i3p13qLCt0Ki3A</td>\n      <td>Ben Woodward</td>\n      <td>Ghost (Acoustic)</td>\n      <td>Ghost - Acoustic</td>\n      <td>55</td>\n      <td>149610</td>\n      <td>False</td>\n      <td>0.42</td>\n      <td>0.17</td>\n      <td>1</td>\n      <td>-17.23</td>\n      <td>1</td>\n      <td>0.08</td>\n      <td>0.92</td>\n      <td>0.00</td>\n      <td>0.10</td>\n      <td>0.27</td>\n      <td>77.49</td>\n      <td>4</td>\n      <td>acústico</td>\n    </tr>\n    <tr>\n      <th>2</th>\n      <td>1iJBSr7s7jYXzM8EGcbK5b</td>\n      <td>Ingrid Michaelson;ZAYN</td>\n      <td>To Begin Again</td>\n      <td>To Begin Again</td>\n      <td>57</td>\n      <td>210826</td>\n      <td>False</td>\n      <td>0.44</td>\n      <td>0.36</td>\n      <td>0</td>\n      <td>-9.73</td>\n      <td>1</td>\n      <td>0.06</td>\n      <td>0.21</td>\n      <td>0.00</td>\n      <td>0.12</td>\n      <td>0.12</td>\n      <td>76.33</td>\n      <td>4</td>\n      <td>acústico</td>\n    </tr>\n    <tr>\n      <th>3</th>\n      <td>6lfxq3CG4xtTiEg7opyCyx</td>\n      <td>Kina Grannis</td>\n      <td>Crazy Rich Asians (Original Motion Picture Sou...</td>\n      <td>Can't Help Falling In Love</td>\n      <td>71</td>\n      <td>201933</td>\n      <td>False</td>\n      <td>0.27</td>\n      <td>0.06</td>\n      <td>0</td>\n      <td>-18.52</td>\n      <td>1</td>\n      <td>0.04</td>\n      <td>0.91</td>\n      <td>0.00</td>\n      <td>0.13</td>\n      <td>0.14</td>\n      <td>181.74</td>\n      <td>3</td>\n      <td>acústico</td>\n    </tr>\n    <tr>\n      <th>4</th>\n      <td>5vjLSffimiIP26QG5WcN2K</td>\n      <td>Chord Overstreet</td>\n      <td>Hold On</td>\n      <td>Hold On</td>\n      <td>82</td>\n      <td>198853</td>\n      <td>False</td>\n      <td>0.62</td>\n      <td>0.44</td>\n      <td>2</td>\n      <td>-9.68</td>\n      <td>1</td>\n      <td>0.05</td>\n      <td>0.47</td>\n      <td>0.00</td>\n      <td>0.08</td>\n      <td>0.17</td>\n      <td>119.95</td>\n      <td>4</td>\n      <td>acústico</td>\n    </tr>\n  </tbody>\n</table>\n</div>"
     },
     "execution_count": 13,
     "metadata": {},
     "output_type": "execute_result"
    }
   ],
   "source": [
    "df = carregar_dados('dataset.csv', colunas, generos_dict)\n",
    "df.head()"
   ],
   "metadata": {
    "collapsed": false,
    "ExecuteTime": {
     "end_time": "2023-09-25T15:23:59.872260100Z",
     "start_time": "2023-09-25T15:23:58.128818600Z"
    }
   }
  },
  {
   "cell_type": "code",
   "execution_count": 14,
   "metadata": {
    "ExecuteTime": {
     "end_time": "2023-09-25T15:23:59.887071400Z",
     "start_time": "2023-09-25T15:23:59.881014600Z"
    }
   },
   "outputs": [],
   "source": [
    "#profile = ProfileReport(df)\n",
    "#profile"
   ]
  },
  {
   "cell_type": "code",
   "execution_count": 15,
   "metadata": {
    "ExecuteTime": {
     "end_time": "2023-09-25T15:23:59.899623600Z",
     "start_time": "2023-09-25T15:23:59.886026100Z"
    }
   },
   "outputs": [],
   "source": [
    "#profile.to_file('Spotify-Profile-1.html')"
   ]
  },
  {
   "cell_type": "code",
   "execution_count": 16,
   "outputs": [
    {
     "name": "stdout",
     "output_type": "stream",
     "text": [
      "<class 'pandas.core.frame.DataFrame'>\n",
      "Int64Index: 113468 entries, 0 to 113999\n",
      "Data columns (total 20 columns):\n",
      " #   Column             Non-Null Count   Dtype  \n",
      "---  ------             --------------   -----  \n",
      " 0   id_musica          113468 non-null  object \n",
      " 1   artistas           113468 non-null  object \n",
      " 2   nome_do_album      113468 non-null  object \n",
      " 3   nome_da_faixa      113468 non-null  object \n",
      " 4   popularidade       113468 non-null  int64  \n",
      " 5   duracao_ms         113468 non-null  int64  \n",
      " 6   explicito          113468 non-null  bool   \n",
      " 7   dancabilidade      113468 non-null  float64\n",
      " 8   energia            113468 non-null  float64\n",
      " 9   chave              113468 non-null  int64  \n",
      " 10  volume             113468 non-null  float64\n",
      " 11  modo               113468 non-null  int64  \n",
      " 12  fala               113468 non-null  float64\n",
      " 13  acustica           113468 non-null  float64\n",
      " 14  instrumentalidade  113468 non-null  float64\n",
      " 15  vivacidade         113468 non-null  float64\n",
      " 16  valencia           113468 non-null  float64\n",
      " 17  tempo              113468 non-null  float64\n",
      " 18  assinatura_hora    113468 non-null  int64  \n",
      " 19  gênero             113468 non-null  object \n",
      "dtypes: bool(1), float64(9), int64(5), object(5)\n",
      "memory usage: 17.4+ MB\n"
     ]
    }
   ],
   "source": [
    "df.info()"
   ],
   "metadata": {
    "collapsed": false,
    "ExecuteTime": {
     "end_time": "2023-09-25T15:24:00.126161300Z",
     "start_time": "2023-09-25T15:23:59.899623600Z"
    }
   }
  },
  {
   "cell_type": "markdown",
   "source": [
    "### Quais são as 100 músicas mais populares?"
   ],
   "metadata": {
    "collapsed": false
   }
  },
  {
   "cell_type": "code",
   "execution_count": 17,
   "metadata": {
    "ExecuteTime": {
     "end_time": "2023-09-25T15:24:00.564450300Z",
     "start_time": "2023-09-25T15:24:00.110520800Z"
    }
   },
   "outputs": [
    {
     "data": {
      "text/plain": "                    id_musica                          nome_da_faixa  \\\n43850  3nqQXoyQOWXiESFLlDF1hG              Unholy (feat. Kim Petras)   \n33330  2tTmW7RDtMQtBk7m2rYeSw  Quevedo: Bzrp Music Sessions, Vol. 52   \n56457  4uUG5RXrOk84mYEfFvj3cK                        I'm Good (Blue)   \n68459  5ww2BF9slyYgNOk37BlC4u                             La Bachata   \n14969  1IHWl5LamUGEuP4ozKQSXZ                       Tití Me Preguntó   \n...                       ...                                    ...   \n81394  73vIOb4Q7YN6HeJTbscRx5                               Miss You   \n10261  0tgVpDi06FyKpA1z0VMD4v                                Perfect   \n26514  2JPLbjOn0wPCngEot2STUS                               Yonaguni   \n43256  3kUq4sBcmxhnOtNysZ9yrp                Feliz Cumpleaños Ferxxo   \n79382  6tCd8bPvYnceDG7W9M1RMk                              Shut Down   \n\n       popularidade  \n43850           100  \n33330            99  \n56457            98  \n68459            98  \n14969            97  \n...             ...  \n81394            87  \n10261            87  \n26514            87  \n43256            87  \n79382            87  \n\n[100 rows x 3 columns]",
      "text/html": "<div>\n<style scoped>\n    .dataframe tbody tr th:only-of-type {\n        vertical-align: middle;\n    }\n\n    .dataframe tbody tr th {\n        vertical-align: top;\n    }\n\n    .dataframe thead th {\n        text-align: right;\n    }\n</style>\n<table border=\"1\" class=\"dataframe\">\n  <thead>\n    <tr style=\"text-align: right;\">\n      <th></th>\n      <th>id_musica</th>\n      <th>nome_da_faixa</th>\n      <th>popularidade</th>\n    </tr>\n  </thead>\n  <tbody>\n    <tr>\n      <th>43850</th>\n      <td>3nqQXoyQOWXiESFLlDF1hG</td>\n      <td>Unholy (feat. Kim Petras)</td>\n      <td>100</td>\n    </tr>\n    <tr>\n      <th>33330</th>\n      <td>2tTmW7RDtMQtBk7m2rYeSw</td>\n      <td>Quevedo: Bzrp Music Sessions, Vol. 52</td>\n      <td>99</td>\n    </tr>\n    <tr>\n      <th>56457</th>\n      <td>4uUG5RXrOk84mYEfFvj3cK</td>\n      <td>I'm Good (Blue)</td>\n      <td>98</td>\n    </tr>\n    <tr>\n      <th>68459</th>\n      <td>5ww2BF9slyYgNOk37BlC4u</td>\n      <td>La Bachata</td>\n      <td>98</td>\n    </tr>\n    <tr>\n      <th>14969</th>\n      <td>1IHWl5LamUGEuP4ozKQSXZ</td>\n      <td>Tití Me Preguntó</td>\n      <td>97</td>\n    </tr>\n    <tr>\n      <th>...</th>\n      <td>...</td>\n      <td>...</td>\n      <td>...</td>\n    </tr>\n    <tr>\n      <th>81394</th>\n      <td>73vIOb4Q7YN6HeJTbscRx5</td>\n      <td>Miss You</td>\n      <td>87</td>\n    </tr>\n    <tr>\n      <th>10261</th>\n      <td>0tgVpDi06FyKpA1z0VMD4v</td>\n      <td>Perfect</td>\n      <td>87</td>\n    </tr>\n    <tr>\n      <th>26514</th>\n      <td>2JPLbjOn0wPCngEot2STUS</td>\n      <td>Yonaguni</td>\n      <td>87</td>\n    </tr>\n    <tr>\n      <th>43256</th>\n      <td>3kUq4sBcmxhnOtNysZ9yrp</td>\n      <td>Feliz Cumpleaños Ferxxo</td>\n      <td>87</td>\n    </tr>\n    <tr>\n      <th>79382</th>\n      <td>6tCd8bPvYnceDG7W9M1RMk</td>\n      <td>Shut Down</td>\n      <td>87</td>\n    </tr>\n  </tbody>\n</table>\n<p>100 rows × 3 columns</p>\n</div>"
     },
     "execution_count": 17,
     "metadata": {},
     "output_type": "execute_result"
    }
   ],
   "source": [
    "# 100 Músicas mais populares\n",
    "colunas_p1 = ['id_musica', 'nome_da_faixa', 'popularidade']\n",
    "grupo_p1 = ['id_musica', 'nome_da_faixa']\n",
    "df_p1 = df.groupby(grupo_p1, as_index=False)['popularidade'].max()\n",
    "df_p1.sort_values(by=['popularidade'], ascending=False).head(100)"
   ]
  },
  {
   "cell_type": "markdown",
   "source": [
    "### Quais os artistas mais populares?"
   ],
   "metadata": {
    "collapsed": false
   }
  },
  {
   "cell_type": "code",
   "execution_count": 18,
   "outputs": [
    {
     "data": {
      "text/plain": "                               artistas  popularidade\n24119              Sam Smith;Kim Petras        100.00\n3629                   Bizarrap;Quevedo         99.00\n17442                     Manuel Turizo         98.00\n2857         Bad Bunny;Chencho Corleone         97.00\n2855            Bad Bunny;Bomba Estéreo         94.50\n...                                 ...           ...\n9166              Faith Hill;Tim McGraw          0.00\n9164   Faith Evans;The Notorious B.I.G.          0.00\n9163                        Faith Evans          0.00\n21430                              Pher          0.00\n10886              Gorgon City;Flirta D          0.00\n\n[31437 rows x 2 columns]",
      "text/html": "<div>\n<style scoped>\n    .dataframe tbody tr th:only-of-type {\n        vertical-align: middle;\n    }\n\n    .dataframe tbody tr th {\n        vertical-align: top;\n    }\n\n    .dataframe thead th {\n        text-align: right;\n    }\n</style>\n<table border=\"1\" class=\"dataframe\">\n  <thead>\n    <tr style=\"text-align: right;\">\n      <th></th>\n      <th>artistas</th>\n      <th>popularidade</th>\n    </tr>\n  </thead>\n  <tbody>\n    <tr>\n      <th>24119</th>\n      <td>Sam Smith;Kim Petras</td>\n      <td>100.00</td>\n    </tr>\n    <tr>\n      <th>3629</th>\n      <td>Bizarrap;Quevedo</td>\n      <td>99.00</td>\n    </tr>\n    <tr>\n      <th>17442</th>\n      <td>Manuel Turizo</td>\n      <td>98.00</td>\n    </tr>\n    <tr>\n      <th>2857</th>\n      <td>Bad Bunny;Chencho Corleone</td>\n      <td>97.00</td>\n    </tr>\n    <tr>\n      <th>2855</th>\n      <td>Bad Bunny;Bomba Estéreo</td>\n      <td>94.50</td>\n    </tr>\n    <tr>\n      <th>...</th>\n      <td>...</td>\n      <td>...</td>\n    </tr>\n    <tr>\n      <th>9166</th>\n      <td>Faith Hill;Tim McGraw</td>\n      <td>0.00</td>\n    </tr>\n    <tr>\n      <th>9164</th>\n      <td>Faith Evans;The Notorious B.I.G.</td>\n      <td>0.00</td>\n    </tr>\n    <tr>\n      <th>9163</th>\n      <td>Faith Evans</td>\n      <td>0.00</td>\n    </tr>\n    <tr>\n      <th>21430</th>\n      <td>Pher</td>\n      <td>0.00</td>\n    </tr>\n    <tr>\n      <th>10886</th>\n      <td>Gorgon City;Flirta D</td>\n      <td>0.00</td>\n    </tr>\n  </tbody>\n</table>\n<p>31437 rows × 2 columns</p>\n</div>"
     },
     "execution_count": 18,
     "metadata": {},
     "output_type": "execute_result"
    }
   ],
   "source": [
    "# Artistas mais populares\n",
    "grupo_p2 = ['artistas']\n",
    "df_p2 = df.groupby(grupo_p2, as_index=False)['popularidade'].mean()\n",
    "df_p2.sort_values(by=['popularidade'], ascending=False)"
   ],
   "metadata": {
    "collapsed": false,
    "ExecuteTime": {
     "end_time": "2023-09-25T15:24:00.674415Z",
     "start_time": "2023-09-25T15:24:00.564450300Z"
    }
   }
  },
  {
   "cell_type": "markdown",
   "source": [
    "### Quais são os gêneros musicais mais populares?"
   ],
   "metadata": {
    "collapsed": false
   }
  },
  {
   "cell_type": "code",
   "execution_count": 19,
   "outputs": [
    {
     "data": {
      "text/plain": "             gênero  popularidade\n82         pop-film         59.28\n67            k-pop         56.96\n16            chill         53.70\n109          triste         52.38\n45           grunge         49.58\n..              ...           ...\n15    chicago-house         12.33\n25   detroit-techno         11.18\n68           latina          8.36\n94          romance          3.55\n61         iraniana          2.22\n\n[112 rows x 2 columns]",
      "text/html": "<div>\n<style scoped>\n    .dataframe tbody tr th:only-of-type {\n        vertical-align: middle;\n    }\n\n    .dataframe tbody tr th {\n        vertical-align: top;\n    }\n\n    .dataframe thead th {\n        text-align: right;\n    }\n</style>\n<table border=\"1\" class=\"dataframe\">\n  <thead>\n    <tr style=\"text-align: right;\">\n      <th></th>\n      <th>gênero</th>\n      <th>popularidade</th>\n    </tr>\n  </thead>\n  <tbody>\n    <tr>\n      <th>82</th>\n      <td>pop-film</td>\n      <td>59.28</td>\n    </tr>\n    <tr>\n      <th>67</th>\n      <td>k-pop</td>\n      <td>56.96</td>\n    </tr>\n    <tr>\n      <th>16</th>\n      <td>chill</td>\n      <td>53.70</td>\n    </tr>\n    <tr>\n      <th>109</th>\n      <td>triste</td>\n      <td>52.38</td>\n    </tr>\n    <tr>\n      <th>45</th>\n      <td>grunge</td>\n      <td>49.58</td>\n    </tr>\n    <tr>\n      <th>...</th>\n      <td>...</td>\n      <td>...</td>\n    </tr>\n    <tr>\n      <th>15</th>\n      <td>chicago-house</td>\n      <td>12.33</td>\n    </tr>\n    <tr>\n      <th>25</th>\n      <td>detroit-techno</td>\n      <td>11.18</td>\n    </tr>\n    <tr>\n      <th>68</th>\n      <td>latina</td>\n      <td>8.36</td>\n    </tr>\n    <tr>\n      <th>94</th>\n      <td>romance</td>\n      <td>3.55</td>\n    </tr>\n    <tr>\n      <th>61</th>\n      <td>iraniana</td>\n      <td>2.22</td>\n    </tr>\n  </tbody>\n</table>\n<p>112 rows × 2 columns</p>\n</div>"
     },
     "execution_count": 19,
     "metadata": {},
     "output_type": "execute_result"
    }
   ],
   "source": [
    "# Artistas mais populares\n",
    "grupo_p3 = ['gênero']\n",
    "df_p3 = df.groupby(grupo_p3, as_index=False)['popularidade'].mean()\n",
    "df_p3.sort_values(by=['popularidade'], ascending=False)"
   ],
   "metadata": {
    "collapsed": false,
    "ExecuteTime": {
     "end_time": "2023-09-25T15:24:00.726126100Z",
     "start_time": "2023-09-25T15:24:00.665572100Z"
    }
   }
  },
  {
   "cell_type": "markdown",
   "source": [
    "<a id='day_2'></a>\n",
    "### 3.2. Dia 2"
   ],
   "metadata": {
    "collapsed": false
   }
  },
  {
   "cell_type": "code",
   "execution_count": 20,
   "outputs": [
    {
     "data": {
      "text/plain": "['id_musica',\n 'artistas',\n 'nome_do_album',\n 'nome_da_faixa',\n 'popularidade',\n 'duracao_ms',\n 'explicito',\n 'dancabilidade',\n 'energia',\n 'chave',\n 'volume',\n 'modo',\n 'fala',\n 'acustica',\n 'instrumentalidade',\n 'vivacidade',\n 'valencia',\n 'tempo',\n 'assinatura_hora',\n 'gênero']"
     },
     "execution_count": 20,
     "metadata": {},
     "output_type": "execute_result"
    }
   ],
   "source": [
    "# Exibe os nomes das colunas\n",
    "df.columns.to_list()"
   ],
   "metadata": {
    "collapsed": false,
    "ExecuteTime": {
     "end_time": "2023-09-25T15:24:00.726126100Z",
     "start_time": "2023-09-25T15:24:00.700669200Z"
    }
   }
  },
  {
   "cell_type": "code",
   "execution_count": 21,
   "outputs": [
    {
     "data": {
      "text/plain": "<Figure size 640x480 with 1 Axes>",
      "image/png": "[encoded data removed]"
     },
     "metadata": {},
     "output_type": "display_data"
    }
   ],
   "source": [
    "# Distribuição dos valores de popularidade\n",
    "df['popularidade'].hist();"
   ],
   "metadata": {
    "collapsed": false,
    "ExecuteTime": {
     "end_time": "2023-09-25T15:24:01.045861400Z",
     "start_time": "2023-09-25T15:24:00.710064100Z"
    }
   }
  },
  {
   "cell_type": "code",
   "execution_count": 22,
   "outputs": [
    {
     "data": {
      "text/plain": "(104019, 8498)"
     },
     "execution_count": 22,
     "metadata": {},
     "output_type": "execute_result"
    }
   ],
   "source": [
    "# Verificando a quantidade por corte de popularidade de 65\n",
    "df[df['popularidade'] < 65].shape[0], df[df['popularidade'] > 65].shape[0]"
   ],
   "metadata": {
    "collapsed": false,
    "ExecuteTime": {
     "end_time": "2023-09-25T15:24:01.221457100Z",
     "start_time": "2023-09-25T15:24:01.045861400Z"
    }
   }
  },
  {
   "cell_type": "code",
   "execution_count": 23,
   "outputs": [
    {
     "data": {
      "text/plain": "0    99938\n1    13530\nName: eh_popular, dtype: int64"
     },
     "execution_count": 23,
     "metadata": {},
     "output_type": "execute_result"
    }
   ],
   "source": [
    "is_popular = df['popularidade'] > 60\n",
    "df['eh_popular'] = 0\n",
    "df.loc[is_popular, ['eh_popular']] = 1\n",
    "df['eh_popular'].value_counts()"
   ],
   "metadata": {
    "collapsed": false,
    "ExecuteTime": {
     "end_time": "2023-09-25T15:24:01.221457100Z",
     "start_time": "2023-09-25T15:24:01.095168500Z"
    }
   }
  },
  {
   "cell_type": "code",
   "execution_count": 24,
   "outputs": [
    {
     "data": {
      "text/plain": "                     id_musica                artistas  \\\n0       5SuOikwiRyPMVoIQDJUgSV             Gen Hoshino   \n1       4qPNDBW1i3p13qLCt0Ki3A            Ben Woodward   \n2       1iJBSr7s7jYXzM8EGcbK5b  Ingrid Michaelson;ZAYN   \n3       6lfxq3CG4xtTiEg7opyCyx            Kina Grannis   \n4       5vjLSffimiIP26QG5WcN2K        Chord Overstreet   \n...                        ...                     ...   \n113995  2C3TZjDRiAzdyViavDJ217           Rainy Lullaby   \n113996  1hIz5L4IB9hN3WRYPOCGPw           Rainy Lullaby   \n113997  6x8ZfSoqDjuNa5SVP5QjvX           Cesária Evora   \n113998  2e6sXL2bYv4bSz6VTdnfLs        Michael W. Smith   \n113999  2hETkH7cOfqmz3LqZDHZf5           Cesária Evora   \n\n                                            nome_do_album  \\\n0                                                  Comedy   \n1                                        Ghost (Acoustic)   \n2                                          To Begin Again   \n3       Crazy Rich Asians (Original Motion Picture Sou...   \n4                                                 Hold On   \n...                                                   ...   \n113995  #mindfulness - Soft Rain for Mindful Meditatio...   \n113996  #mindfulness - Soft Rain for Mindful Meditatio...   \n113997                                            Best Of   \n113998                                  Change Your World   \n113999                                     Miss Perfumado   \n\n                     nome_da_faixa  popularidade  duracao_ms  explicito  \\\n0                           Comedy            73      230666      False   \n1                 Ghost - Acoustic            55      149610      False   \n2                   To Begin Again            57      210826      False   \n3       Can't Help Falling In Love            71      201933      False   \n4                          Hold On            82      198853      False   \n...                            ...           ...         ...        ...   \n113995         Sleep My Little Boy            21      384999      False   \n113996            Water Into Light            22      385000      False   \n113997              Miss Perfumado            22      271466      False   \n113998                     Friends            41      283893      False   \n113999                   Barbincor            22      241826      False   \n\n        dancabilidade  energia  chave  ...  genero_soul  genero_sueca  \\\n0                0.68     0.46      1  ...            0             0   \n1                0.42     0.17      1  ...            0             0   \n2                0.44     0.36      0  ...            0             0   \n3                0.27     0.06      0  ...            0             0   \n4                0.62     0.44      2  ...            0             0   \n...               ...      ...    ...  ...          ...           ...   \n113995           0.17     0.23      5  ...            0             0   \n113996           0.17     0.12      0  ...            0             0   \n113997           0.63     0.33      0  ...            0             0   \n113998           0.59     0.51      7  ...            0             0   \n113999           0.53     0.49      1  ...            0             0   \n\n        genero_synth-pop  genero_tango  genero_techno  genero_trance  \\\n0                      0             0              0              0   \n1                      0             0              0              0   \n2                      0             0              0              0   \n3                      0             0              0              0   \n4                      0             0              0              0   \n...                  ...           ...            ...            ...   \n113995                 0             0              0              0   \n113996                 0             0              0              0   \n113997                 0             0              0              0   \n113998                 0             0              0              0   \n113999                 0             0              0              0   \n\n        genero_trip-hop  genero_triste  genero_turca  genero_world-music  \n0                     0              0             0                   0  \n1                     0              0             0                   0  \n2                     0              0             0                   0  \n3                     0              0             0                   0  \n4                     0              0             0                   0  \n...                 ...            ...           ...                 ...  \n113995                0              0             0                   1  \n113996                0              0             0                   1  \n113997                0              0             0                   1  \n113998                0              0             0                   1  \n113999                0              0             0                   1  \n\n[113468 rows x 132 columns]",
      "text/html": "<div>\n<style scoped>\n    .dataframe tbody tr th:only-of-type {\n        vertical-align: middle;\n    }\n\n    .dataframe tbody tr th {\n        vertical-align: top;\n    }\n\n    .dataframe thead th {\n        text-align: right;\n    }\n</style>\n<table border=\"1\" class=\"dataframe\">\n  <thead>\n    <tr style=\"text-align: right;\">\n      <th></th>\n      <th>id_musica</th>\n      <th>artistas</th>\n      <th>nome_do_album</th>\n      <th>nome_da_faixa</th>\n      <th>popularidade</th>\n      <th>duracao_ms</th>\n      <th>explicito</th>\n      <th>dancabilidade</th>\n      <th>energia</th>\n      <th>chave</th>\n      <th>...</th>\n      <th>genero_soul</th>\n      <th>genero_sueca</th>\n      <th>genero_synth-pop</th>\n      <th>genero_tango</th>\n      <th>genero_techno</th>\n      <th>genero_trance</th>\n      <th>genero_trip-hop</th>\n      <th>genero_triste</th>\n      <th>genero_turca</th>\n      <th>genero_world-music</th>\n    </tr>\n  </thead>\n  <tbody>\n    <tr>\n      <th>0</th>\n      <td>5SuOikwiRyPMVoIQDJUgSV</td>\n      <td>Gen Hoshino</td>\n      <td>Comedy</td>\n      <td>Comedy</td>\n      <td>73</td>\n      <td>230666</td>\n      <td>False</td>\n      <td>0.68</td>\n      <td>0.46</td>\n      <td>1</td>\n      <td>...</td>\n      <td>0</td>\n      <td>0</td>\n      <td>0</td>\n      <td>0</td>\n      <td>0</td>\n      <td>0</td>\n      <td>0</td>\n      <td>0</td>\n      <td>0</td>\n      <td>0</td>\n    </tr>\n    <tr>\n      <th>1</th>\n      <td>4qPNDBW1i3p13qLCt0Ki3A</td>\n      <td>Ben Woodward</td>\n      <td>Ghost (Acoustic)</td>\n      <td>Ghost - Acoustic</td>\n      <td>55</td>\n      <td>149610</td>\n      <td>False</td>\n      <td>0.42</td>\n      <td>0.17</td>\n      <td>1</td>\n      <td>...</td>\n      <td>0</td>\n      <td>0</td>\n      <td>0</td>\n      <td>0</td>\n      <td>0</td>\n      <td>0</td>\n      <td>0</td>\n      <td>0</td>\n      <td>0</td>\n      <td>0</td>\n    </tr>\n    <tr>\n      <th>2</th>\n      <td>1iJBSr7s7jYXzM8EGcbK5b</td>\n      <td>Ingrid Michaelson;ZAYN</td>\n      <td>To Begin Again</td>\n      <td>To Begin Again</td>\n      <td>57</td>\n      <td>210826</td>\n      <td>False</td>\n      <td>0.44</td>\n      <td>0.36</td>\n      <td>0</td>\n      <td>...</td>\n      <td>0</td>\n      <td>0</td>\n      <td>0</td>\n      <td>0</td>\n      <td>0</td>\n      <td>0</td>\n      <td>0</td>\n      <td>0</td>\n      <td>0</td>\n      <td>0</td>\n    </tr>\n    <tr>\n      <th>3</th>\n      <td>6lfxq3CG4xtTiEg7opyCyx</td>\n      <td>Kina Grannis</td>\n      <td>Crazy Rich Asians (Original Motion Picture Sou...</td>\n      <td>Can't Help Falling In Love</td>\n      <td>71</td>\n      <td>201933</td>\n      <td>False</td>\n      <td>0.27</td>\n      <td>0.06</td>\n      <td>0</td>\n      <td>...</td>\n      <td>0</td>\n      <td>0</td>\n      <td>0</td>\n      <td>0</td>\n      <td>0</td>\n      <td>0</td>\n      <td>0</td>\n      <td>0</td>\n      <td>0</td>\n      <td>0</td>\n    </tr>\n    <tr>\n      <th>4</th>\n      <td>5vjLSffimiIP26QG5WcN2K</td>\n      <td>Chord Overstreet</td>\n      <td>Hold On</td>\n      <td>Hold On</td>\n      <td>82</td>\n      <td>198853</td>\n      <td>False</td>\n      <td>0.62</td>\n      <td>0.44</td>\n      <td>2</td>\n      <td>...</td>\n      <td>0</td>\n      <td>0</td>\n      <td>0</td>\n      <td>0</td>\n      <td>0</td>\n      <td>0</td>\n      <td>0</td>\n      <td>0</td>\n      <td>0</td>\n      <td>0</td>\n    </tr>\n    <tr>\n      <th>...</th>\n      <td>...</td>\n      <td>...</td>\n      <td>...</td>\n      <td>...</td>\n      <td>...</td>\n      <td>...</td>\n      <td>...</td>\n      <td>...</td>\n      <td>...</td>\n      <td>...</td>\n      <td>...</td>\n      <td>...</td>\n      <td>...</td>\n      <td>...</td>\n      <td>...</td>\n      <td>...</td>\n      <td>...</td>\n      <td>...</td>\n      <td>...</td>\n      <td>...</td>\n      <td>...</td>\n    </tr>\n    <tr>\n      <th>113995</th>\n      <td>2C3TZjDRiAzdyViavDJ217</td>\n      <td>Rainy Lullaby</td>\n      <td>#mindfulness - Soft Rain for Mindful Meditatio...</td>\n      <td>Sleep My Little Boy</td>\n      <td>21</td>\n      <td>384999</td>\n      <td>False</td>\n      <td>0.17</td>\n      <td>0.23</td>\n      <td>5</td>\n      <td>...</td>\n      <td>0</td>\n      <td>0</td>\n      <td>0</td>\n      <td>0</td>\n      <td>0</td>\n      <td>0</td>\n      <td>0</td>\n      <td>0</td>\n      <td>0</td>\n      <td>1</td>\n    </tr>\n    <tr>\n      <th>113996</th>\n      <td>1hIz5L4IB9hN3WRYPOCGPw</td>\n      <td>Rainy Lullaby</td>\n      <td>#mindfulness - Soft Rain for Mindful Meditatio...</td>\n      <td>Water Into Light</td>\n      <td>22</td>\n      <td>385000</td>\n      <td>False</td>\n      <td>0.17</td>\n      <td>0.12</td>\n      <td>0</td>\n      <td>...</td>\n      <td>0</td>\n      <td>0</td>\n      <td>0</td>\n      <td>0</td>\n      <td>0</td>\n      <td>0</td>\n      <td>0</td>\n      <td>0</td>\n      <td>0</td>\n      <td>1</td>\n    </tr>\n    <tr>\n      <th>113997</th>\n      <td>6x8ZfSoqDjuNa5SVP5QjvX</td>\n      <td>Cesária Evora</td>\n      <td>Best Of</td>\n      <td>Miss Perfumado</td>\n      <td>22</td>\n      <td>271466</td>\n      <td>False</td>\n      <td>0.63</td>\n      <td>0.33</td>\n      <td>0</td>\n      <td>...</td>\n      <td>0</td>\n      <td>0</td>\n      <td>0</td>\n      <td>0</td>\n      <td>0</td>\n      <td>0</td>\n      <td>0</td>\n      <td>0</td>\n      <td>0</td>\n      <td>1</td>\n    </tr>\n    <tr>\n      <th>113998</th>\n      <td>2e6sXL2bYv4bSz6VTdnfLs</td>\n      <td>Michael W. Smith</td>\n      <td>Change Your World</td>\n      <td>Friends</td>\n      <td>41</td>\n      <td>283893</td>\n      <td>False</td>\n      <td>0.59</td>\n      <td>0.51</td>\n      <td>7</td>\n      <td>...</td>\n      <td>0</td>\n      <td>0</td>\n      <td>0</td>\n      <td>0</td>\n      <td>0</td>\n      <td>0</td>\n      <td>0</td>\n      <td>0</td>\n      <td>0</td>\n      <td>1</td>\n    </tr>\n    <tr>\n      <th>113999</th>\n      <td>2hETkH7cOfqmz3LqZDHZf5</td>\n      <td>Cesária Evora</td>\n      <td>Miss Perfumado</td>\n      <td>Barbincor</td>\n      <td>22</td>\n      <td>241826</td>\n      <td>False</td>\n      <td>0.53</td>\n      <td>0.49</td>\n      <td>1</td>\n      <td>...</td>\n      <td>0</td>\n      <td>0</td>\n      <td>0</td>\n      <td>0</td>\n      <td>0</td>\n      <td>0</td>\n      <td>0</td>\n      <td>0</td>\n      <td>0</td>\n      <td>1</td>\n    </tr>\n  </tbody>\n</table>\n<p>113468 rows × 132 columns</p>\n</div>"
     },
     "execution_count": 24,
     "metadata": {},
     "output_type": "execute_result"
    }
   ],
   "source": [
    "# Teste variáveis dummies de gênero\n",
    "pd.get_dummies(df, columns=['gênero'], prefix=['genero'])"
   ],
   "metadata": {
    "collapsed": false,
    "ExecuteTime": {
     "end_time": "2023-09-25T15:24:01.481619800Z",
     "start_time": "2023-09-25T15:24:01.174563300Z"
    }
   }
  },
  {
   "cell_type": "code",
   "execution_count": 25,
   "outputs": [
    {
     "data": {
      "text/plain": "   duracao_ms  dancabilidade  volume  acustica  instrumentalidade  vivacidade  \\\n0      230666           0.68   -6.75      0.03               0.00        0.36   \n1      149610           0.42  -17.23      0.92               0.00        0.10   \n2      210826           0.44   -9.73      0.21               0.00        0.12   \n3      201933           0.27  -18.52      0.91               0.00        0.13   \n4      198853           0.62   -9.68      0.47               0.00        0.08   \n\n   valencia  assinatura_hora  eh_popular  \n0      0.71                4           1  \n1      0.27                4           0  \n2      0.12                4           0  \n3      0.14                3           1  \n4      0.17                4           1  ",
      "text/html": "<div>\n<style scoped>\n    .dataframe tbody tr th:only-of-type {\n        vertical-align: middle;\n    }\n\n    .dataframe tbody tr th {\n        vertical-align: top;\n    }\n\n    .dataframe thead th {\n        text-align: right;\n    }\n</style>\n<table border=\"1\" class=\"dataframe\">\n  <thead>\n    <tr style=\"text-align: right;\">\n      <th></th>\n      <th>duracao_ms</th>\n      <th>dancabilidade</th>\n      <th>volume</th>\n      <th>acustica</th>\n      <th>instrumentalidade</th>\n      <th>vivacidade</th>\n      <th>valencia</th>\n      <th>assinatura_hora</th>\n      <th>eh_popular</th>\n    </tr>\n  </thead>\n  <tbody>\n    <tr>\n      <th>0</th>\n      <td>230666</td>\n      <td>0.68</td>\n      <td>-6.75</td>\n      <td>0.03</td>\n      <td>0.00</td>\n      <td>0.36</td>\n      <td>0.71</td>\n      <td>4</td>\n      <td>1</td>\n    </tr>\n    <tr>\n      <th>1</th>\n      <td>149610</td>\n      <td>0.42</td>\n      <td>-17.23</td>\n      <td>0.92</td>\n      <td>0.00</td>\n      <td>0.10</td>\n      <td>0.27</td>\n      <td>4</td>\n      <td>0</td>\n    </tr>\n    <tr>\n      <th>2</th>\n      <td>210826</td>\n      <td>0.44</td>\n      <td>-9.73</td>\n      <td>0.21</td>\n      <td>0.00</td>\n      <td>0.12</td>\n      <td>0.12</td>\n      <td>4</td>\n      <td>0</td>\n    </tr>\n    <tr>\n      <th>3</th>\n      <td>201933</td>\n      <td>0.27</td>\n      <td>-18.52</td>\n      <td>0.91</td>\n      <td>0.00</td>\n      <td>0.13</td>\n      <td>0.14</td>\n      <td>3</td>\n      <td>1</td>\n    </tr>\n    <tr>\n      <th>4</th>\n      <td>198853</td>\n      <td>0.62</td>\n      <td>-9.68</td>\n      <td>0.47</td>\n      <td>0.00</td>\n      <td>0.08</td>\n      <td>0.17</td>\n      <td>4</td>\n      <td>1</td>\n    </tr>\n  </tbody>\n</table>\n</div>"
     },
     "execution_count": 25,
     "metadata": {},
     "output_type": "execute_result"
    }
   ],
   "source": [
    "# Dataframe numérico\n",
    "dfn = df.select_dtypes(include=['float', 'int']).drop(columns=['popularidade', 'chave', 'fala', 'modo', 'energia', 'tempo'])\n",
    "dfn.head()"
   ],
   "metadata": {
    "collapsed": false,
    "ExecuteTime": {
     "end_time": "2023-09-25T15:24:01.511937800Z",
     "start_time": "2023-09-25T15:24:01.481619800Z"
    }
   }
  },
  {
   "cell_type": "code",
   "execution_count": 26,
   "outputs": [
    {
     "data": {
      "text/plain": "   duracao_ms  dancabilidade  volume  acustica  instrumentalidade  vivacidade  \\\n0        0.04           0.69    0.79      0.03               0.00        0.36   \n1        0.03           0.43    0.60      0.93               0.00        0.10   \n2        0.04           0.44    0.74      0.21               0.00        0.12   \n3        0.04           0.27    0.57      0.91               0.00        0.13   \n4        0.04           0.63    0.74      0.47               0.00        0.08   \n\n   valencia  assinatura_hora  eh_popular  \n0      0.72             0.80        1.00  \n1      0.27             0.80        0.00  \n2      0.12             0.80        0.00  \n3      0.14             0.60        1.00  \n4      0.17             0.80        1.00  ",
      "text/html": "<div>\n<style scoped>\n    .dataframe tbody tr th:only-of-type {\n        vertical-align: middle;\n    }\n\n    .dataframe tbody tr th {\n        vertical-align: top;\n    }\n\n    .dataframe thead th {\n        text-align: right;\n    }\n</style>\n<table border=\"1\" class=\"dataframe\">\n  <thead>\n    <tr style=\"text-align: right;\">\n      <th></th>\n      <th>duracao_ms</th>\n      <th>dancabilidade</th>\n      <th>volume</th>\n      <th>acustica</th>\n      <th>instrumentalidade</th>\n      <th>vivacidade</th>\n      <th>valencia</th>\n      <th>assinatura_hora</th>\n      <th>eh_popular</th>\n    </tr>\n  </thead>\n  <tbody>\n    <tr>\n      <th>0</th>\n      <td>0.04</td>\n      <td>0.69</td>\n      <td>0.79</td>\n      <td>0.03</td>\n      <td>0.00</td>\n      <td>0.36</td>\n      <td>0.72</td>\n      <td>0.80</td>\n      <td>1.00</td>\n    </tr>\n    <tr>\n      <th>1</th>\n      <td>0.03</td>\n      <td>0.43</td>\n      <td>0.60</td>\n      <td>0.93</td>\n      <td>0.00</td>\n      <td>0.10</td>\n      <td>0.27</td>\n      <td>0.80</td>\n      <td>0.00</td>\n    </tr>\n    <tr>\n      <th>2</th>\n      <td>0.04</td>\n      <td>0.44</td>\n      <td>0.74</td>\n      <td>0.21</td>\n      <td>0.00</td>\n      <td>0.12</td>\n      <td>0.12</td>\n      <td>0.80</td>\n      <td>0.00</td>\n    </tr>\n    <tr>\n      <th>3</th>\n      <td>0.04</td>\n      <td>0.27</td>\n      <td>0.57</td>\n      <td>0.91</td>\n      <td>0.00</td>\n      <td>0.13</td>\n      <td>0.14</td>\n      <td>0.60</td>\n      <td>1.00</td>\n    </tr>\n    <tr>\n      <th>4</th>\n      <td>0.04</td>\n      <td>0.63</td>\n      <td>0.74</td>\n      <td>0.47</td>\n      <td>0.00</td>\n      <td>0.08</td>\n      <td>0.17</td>\n      <td>0.80</td>\n      <td>1.00</td>\n    </tr>\n  </tbody>\n</table>\n</div>"
     },
     "execution_count": 26,
     "metadata": {},
     "output_type": "execute_result"
    }
   ],
   "source": [
    "# Normalização Min-Max\n",
    "df_normalized = (dfn - dfn.min()) / (dfn.max() - dfn.min())\n",
    "df_normalized.head()"
   ],
   "metadata": {
    "collapsed": false,
    "ExecuteTime": {
     "end_time": "2023-09-25T15:24:01.660335800Z",
     "start_time": "2023-09-25T15:24:01.519829400Z"
    }
   }
  },
  {
   "cell_type": "code",
   "execution_count": 27,
   "outputs": [
    {
     "data": {
      "text/plain": "duracao_ms          -0.03\ndancabilidade        0.06\nvolume               0.06\nacustica            -0.06\ninstrumentalidade   -0.11\nvivacidade          -0.06\nvalencia             0.02\nassinatura_hora      0.03\neh_popular           1.00\nName: eh_popular, dtype: float64"
     },
     "execution_count": 27,
     "metadata": {},
     "output_type": "execute_result"
    }
   ],
   "source": [
    "# Correlação de pearson para 'eh_popular'\n",
    "df_normalized.corr(method=\"pearson\")['eh_popular']"
   ],
   "metadata": {
    "collapsed": false,
    "ExecuteTime": {
     "end_time": "2023-09-25T15:24:01.660335800Z",
     "start_time": "2023-09-25T15:24:01.560022200Z"
    }
   }
  },
  {
   "cell_type": "markdown",
   "source": [
    "<a id='day_3'></a>\n",
    "### 3.3. Dia 3"
   ],
   "metadata": {
    "collapsed": false
   }
  },
  {
   "cell_type": "code",
   "execution_count": 28,
   "outputs": [],
   "source": [
    "# Separando variável targer das variáveis features\n",
    "X = df_normalized.drop(columns=['eh_popular'])\n",
    "y = df_normalized['eh_popular']"
   ],
   "metadata": {
    "collapsed": false,
    "ExecuteTime": {
     "end_time": "2023-09-25T15:24:01.660335800Z",
     "start_time": "2023-09-25T15:24:01.627689500Z"
    }
   }
  },
  {
   "cell_type": "code",
   "execution_count": 29,
   "outputs": [],
   "source": [
    "# Divisão dos dados em conjuntos de treino e teste\n",
    "X_train, X_test, y_train, y_test = train_test_split(X, y, test_size=0.2, random_state=42, shuffle=True)"
   ],
   "metadata": {
    "collapsed": false,
    "ExecuteTime": {
     "end_time": "2023-09-25T15:24:01.709936800Z",
     "start_time": "2023-09-25T15:24:01.641419200Z"
    }
   }
  },
  {
   "cell_type": "code",
   "execution_count": 30,
   "outputs": [
    {
     "data": {
      "text/plain": "((90774, 8), (22694, 8), (90774,), (22694,))"
     },
     "execution_count": 30,
     "metadata": {},
     "output_type": "execute_result"
    }
   ],
   "source": [
    "# Dimensões dos conjuntos de treino e teste\n",
    "X_train.shape, X_test.shape, y_train.shape, y_test.shape"
   ],
   "metadata": {
    "collapsed": false,
    "ExecuteTime": {
     "end_time": "2023-09-25T15:24:01.723516Z",
     "start_time": "2023-09-25T15:24:01.687887500Z"
    }
   }
  },
  {
   "cell_type": "code",
   "execution_count": 31,
   "outputs": [
    {
     "data": {
      "text/plain": "0.00   0.88\n1.00   0.12\nName: eh_popular, dtype: float64"
     },
     "execution_count": 31,
     "metadata": {},
     "output_type": "execute_result"
    }
   ],
   "source": [
    "# Valores de 'eh_popular'\n",
    "y.value_counts(normalize=True)"
   ],
   "metadata": {
    "collapsed": false,
    "ExecuteTime": {
     "end_time": "2023-09-25T15:24:01.723516Z",
     "start_time": "2023-09-25T15:24:01.697017800Z"
    }
   }
  },
  {
   "cell_type": "code",
   "execution_count": 32,
   "outputs": [
    {
     "data": {
      "text/plain": "0.00   0.88\n1.00   0.12\nName: eh_popular, dtype: float64"
     },
     "execution_count": 32,
     "metadata": {},
     "output_type": "execute_result"
    }
   ],
   "source": [
    "# Valores de 'eh_popular' para o conjunto de treino \n",
    "y_train.value_counts(normalize=True)"
   ],
   "metadata": {
    "collapsed": false,
    "ExecuteTime": {
     "end_time": "2023-09-25T15:24:01.791854800Z",
     "start_time": "2023-09-25T15:24:01.709936800Z"
    }
   }
  },
  {
   "cell_type": "code",
   "execution_count": 33,
   "outputs": [
    {
     "data": {
      "text/plain": "0.00   0.88\n1.00   0.12\nName: eh_popular, dtype: float64"
     },
     "execution_count": 33,
     "metadata": {},
     "output_type": "execute_result"
    }
   ],
   "source": [
    "# Valores de 'eh_popular' para o conjunto de teste\n",
    "y_test.value_counts(normalize=True)"
   ],
   "metadata": {
    "collapsed": false,
    "ExecuteTime": {
     "end_time": "2023-09-25T15:24:01.791854800Z",
     "start_time": "2023-09-25T15:24:01.723516Z"
    }
   }
  },
  {
   "cell_type": "markdown",
   "source": [
    "<a id='day_4'></a>\n",
    "### 3.4. Dia 4"
   ],
   "metadata": {
    "collapsed": false
   }
  },
  {
   "cell_type": "code",
   "execution_count": 34,
   "outputs": [],
   "source": [
    "def treinar_modelo_base(X, y):\n",
    "    modelo_base = LogisticRegression(random_state=0)\n",
    "    modelo_base.fit(X, y)\n",
    "    \n",
    "    return modelo_base "
   ],
   "metadata": {
    "collapsed": false,
    "ExecuteTime": {
     "end_time": "2023-09-25T15:24:01.791854800Z",
     "start_time": "2023-09-25T15:24:01.737284Z"
    }
   }
  },
  {
   "cell_type": "code",
   "execution_count": 35,
   "outputs": [
    {
     "data": {
      "text/plain": "LogisticRegression(random_state=0)",
      "text/html": "<style>#sk-container-id-1 {color: black;background-color: white;}#sk-container-id-1 pre{padding: 0;}#sk-container-id-1 div.sk-toggleable {background-color: white;}#sk-container-id-1 label.sk-toggleable__label {cursor: pointer;display: block;width: 100%;margin-bottom: 0;padding: 0.3em;box-sizing: border-box;text-align: center;}#sk-container-id-1 label.sk-toggleable__label-arrow:before {content: \"▸\";float: left;margin-right: 0.25em;color: #696969;}#sk-container-id-1 label.sk-toggleable__label-arrow:hover:before {color: black;}#sk-container-id-1 div.sk-estimator:hover label.sk-toggleable__label-arrow:before {color: black;}#sk-container-id-1 div.sk-toggleable__content {max-height: 0;max-width: 0;overflow: hidden;text-align: left;background-color: #f0f8ff;}#sk-container-id-1 div.sk-toggleable__content pre {margin: 0.2em;color: black;border-radius: 0.25em;background-color: #f0f8ff;}#sk-container-id-1 input.sk-toggleable__control:checked~div.sk-toggleable__content {max-height: 200px;max-width: 100%;overflow: auto;}#sk-container-id-1 input.sk-toggleable__control:checked~label.sk-toggleable__label-arrow:before {content: \"▾\";}#sk-container-id-1 div.sk-estimator input.sk-toggleable__control:checked~label.sk-toggleable__label {background-color: #d4ebff;}#sk-container-id-1 div.sk-label input.sk-toggleable__control:checked~label.sk-toggleable__label {background-color: #d4ebff;}#sk-container-id-1 input.sk-hidden--visually {border: 0;clip: rect(1px 1px 1px 1px);clip: rect(1px, 1px, 1px, 1px);height: 1px;margin: -1px;overflow: hidden;padding: 0;position: absolute;width: 1px;}#sk-container-id-1 div.sk-estimator {font-family: monospace;background-color: #f0f8ff;border: 1px dotted black;border-radius: 0.25em;box-sizing: border-box;margin-bottom: 0.5em;}#sk-container-id-1 div.sk-estimator:hover {background-color: #d4ebff;}#sk-container-id-1 div.sk-parallel-item::after {content: \"\";width: 100%;border-bottom: 1px solid gray;flex-grow: 1;}#sk-container-id-1 div.sk-label:hover label.sk-toggleable__label {background-color: #d4ebff;}#sk-container-id-1 div.sk-serial::before {content: \"\";position: absolute;border-left: 1px solid gray;box-sizing: border-box;top: 0;bottom: 0;left: 50%;z-index: 0;}#sk-container-id-1 div.sk-serial {display: flex;flex-direction: column;align-items: center;background-color: white;padding-right: 0.2em;padding-left: 0.2em;position: relative;}#sk-container-id-1 div.sk-item {position: relative;z-index: 1;}#sk-container-id-1 div.sk-parallel {display: flex;align-items: stretch;justify-content: center;background-color: white;position: relative;}#sk-container-id-1 div.sk-item::before, #sk-container-id-1 div.sk-parallel-item::before {content: \"\";position: absolute;border-left: 1px solid gray;box-sizing: border-box;top: 0;bottom: 0;left: 50%;z-index: -1;}#sk-container-id-1 div.sk-parallel-item {display: flex;flex-direction: column;z-index: 1;position: relative;background-color: white;}#sk-container-id-1 div.sk-parallel-item:first-child::after {align-self: flex-end;width: 50%;}#sk-container-id-1 div.sk-parallel-item:last-child::after {align-self: flex-start;width: 50%;}#sk-container-id-1 div.sk-parallel-item:only-child::after {width: 0;}#sk-container-id-1 div.sk-dashed-wrapped {border: 1px dashed gray;margin: 0 0.4em 0.5em 0.4em;box-sizing: border-box;padding-bottom: 0.4em;background-color: white;}#sk-container-id-1 div.sk-label label {font-family: monospace;font-weight: bold;display: inline-block;line-height: 1.2em;}#sk-container-id-1 div.sk-label-container {text-align: center;}#sk-container-id-1 div.sk-container {/* jupyter's `normalize.less` sets `[hidden] { display: none; }` but bootstrap.min.css set `[hidden] { display: none !important; }` so we also need the `!important` here to be able to override the default hidden behavior on the sphinx rendered scikit-learn.org. See: https://github.com/scikit-learn/scikit-learn/issues/21755 */display: inline-block !important;position: relative;}#sk-container-id-1 div.sk-text-repr-fallback {display: none;}</style><div id=\"sk-container-id-1\" class=\"sk-top-container\"><div class=\"sk-text-repr-fallback\"><pre>LogisticRegression(random_state=0)</pre><b>In a Jupyter environment, please rerun this cell to show the HTML representation or trust the notebook. <br />On GitHub, the HTML representation is unable to render, please try loading this page with nbviewer.org.</b></div><div class=\"sk-container\" hidden><div class=\"sk-item\"><div class=\"sk-estimator sk-toggleable\"><input class=\"sk-toggleable__control sk-hidden--visually\" id=\"sk-estimator-id-1\" type=\"checkbox\" checked><label for=\"sk-estimator-id-1\" class=\"sk-toggleable__label sk-toggleable__label-arrow\">LogisticRegression</label><div class=\"sk-toggleable__content\"><pre>LogisticRegression(random_state=0)</pre></div></div></div></div></div>"
     },
     "execution_count": 35,
     "metadata": {},
     "output_type": "execute_result"
    }
   ],
   "source": [
    "modelo_base = treinar_modelo_base(X_train, y_train)\n",
    "modelo_base"
   ],
   "metadata": {
    "collapsed": false,
    "ExecuteTime": {
     "end_time": "2023-09-25T15:24:02.357946400Z",
     "start_time": "2023-09-25T15:24:01.745073100Z"
    }
   }
  },
  {
   "cell_type": "code",
   "execution_count": 36,
   "outputs": [],
   "source": [
    "def score_modelo(modelo, X, y):\n",
    "    return round(modelo_base.score(X, y), 3)"
   ],
   "metadata": {
    "collapsed": false,
    "ExecuteTime": {
     "end_time": "2023-09-25T15:24:02.357946400Z",
     "start_time": "2023-09-25T15:24:02.327757700Z"
    }
   }
  },
  {
   "cell_type": "code",
   "execution_count": 37,
   "outputs": [
    {
     "name": "stdout",
     "output_type": "stream",
     "text": [
      "Score do modelo para os dados de treino: 0.881.\n"
     ]
    }
   ],
   "source": [
    "print('Score do modelo para os dados de treino: ' + str(score_modelo(modelo_base, X_train, y_train)) + '.')"
   ],
   "metadata": {
    "collapsed": false,
    "ExecuteTime": {
     "end_time": "2023-09-25T15:24:02.367532500Z",
     "start_time": "2023-09-25T15:24:02.339946600Z"
    }
   }
  },
  {
   "cell_type": "code",
   "execution_count": 38,
   "outputs": [
    {
     "name": "stdout",
     "output_type": "stream",
     "text": [
      "Score do modelo para os dados de teste: 0.881.\n"
     ]
    }
   ],
   "source": [
    "print('Score do modelo para os dados de teste: ' + str(score_modelo(modelo_base, X_test, y_test)) + '.')"
   ],
   "metadata": {
    "collapsed": false,
    "ExecuteTime": {
     "end_time": "2023-09-25T15:24:02.412767300Z",
     "start_time": "2023-09-25T15:24:02.368532100Z"
    }
   }
  },
  {
   "cell_type": "code",
   "execution_count": 39,
   "outputs": [],
   "source": [
    "def coeficientes_regressao_logistica(modelo, X):\n",
    "    coeficientes_values = np.append(modelo.coef_, modelo.intercept_)\n",
    "    coeficientes_df = pd.DataFrame(coeficientes_values).T\n",
    "    coeficientes_nomes = X.columns.to_list()\n",
    "    coeficientes_nomes.append('constante')\n",
    "    coeficientes_df.columns = coeficientes_nomes\n",
    "    coeficientes_df.index = ['Coeficientes']\n",
    "    \n",
    "    return coeficientes_df.T"
   ],
   "metadata": {
    "collapsed": false,
    "ExecuteTime": {
     "end_time": "2023-09-25T15:24:02.413765Z",
     "start_time": "2023-09-25T15:24:02.383307200Z"
    }
   }
  },
  {
   "cell_type": "code",
   "execution_count": 40,
   "outputs": [
    {
     "data": {
      "text/plain": "                   Coeficientes\nduracao_ms                -3.63\ndancabilidade              0.93\nvolume                    -0.02\nacustica                  -0.50\ninstrumentalidade         -1.57\nvivacidade                -1.28\nvalencia                  -0.61\nassinatura_hora            0.53\nconstante                 -1.93",
      "text/html": "<div>\n<style scoped>\n    .dataframe tbody tr th:only-of-type {\n        vertical-align: middle;\n    }\n\n    .dataframe tbody tr th {\n        vertical-align: top;\n    }\n\n    .dataframe thead th {\n        text-align: right;\n    }\n</style>\n<table border=\"1\" class=\"dataframe\">\n  <thead>\n    <tr style=\"text-align: right;\">\n      <th></th>\n      <th>Coeficientes</th>\n    </tr>\n  </thead>\n  <tbody>\n    <tr>\n      <th>duracao_ms</th>\n      <td>-3.63</td>\n    </tr>\n    <tr>\n      <th>dancabilidade</th>\n      <td>0.93</td>\n    </tr>\n    <tr>\n      <th>volume</th>\n      <td>-0.02</td>\n    </tr>\n    <tr>\n      <th>acustica</th>\n      <td>-0.50</td>\n    </tr>\n    <tr>\n      <th>instrumentalidade</th>\n      <td>-1.57</td>\n    </tr>\n    <tr>\n      <th>vivacidade</th>\n      <td>-1.28</td>\n    </tr>\n    <tr>\n      <th>valencia</th>\n      <td>-0.61</td>\n    </tr>\n    <tr>\n      <th>assinatura_hora</th>\n      <td>0.53</td>\n    </tr>\n    <tr>\n      <th>constante</th>\n      <td>-1.93</td>\n    </tr>\n  </tbody>\n</table>\n</div>"
     },
     "execution_count": 40,
     "metadata": {},
     "output_type": "execute_result"
    }
   ],
   "source": [
    "# Exibe os coeficientes do modelo \n",
    "coeficientes_regressao_logistica(modelo_base, X_train)"
   ],
   "metadata": {
    "collapsed": false,
    "ExecuteTime": {
     "end_time": "2023-09-25T15:24:02.415764700Z",
     "start_time": "2023-09-25T15:24:02.394021200Z"
    }
   }
  },
  {
   "cell_type": "code",
   "execution_count": 41,
   "outputs": [],
   "source": [
    "def plot_confusion_matrix_lr(model, X, y, titulo_compl=''):\n",
    "    # Classes do modelo\n",
    "    classes = modelo_base.classes_\n",
    "    \n",
    "    # Calcula as previsões do modelo\n",
    "    y_pred = model.predict(X)\n",
    "    \n",
    "    # Calcula a matriz de confusão\n",
    "    cm = confusion_matrix(y, y_pred)\n",
    "    \n",
    "    # Cria um objeto ConfusionMatrixDisplay\n",
    "    disp = ConfusionMatrixDisplay(confusion_matrix=cm, display_labels=classes)\n",
    "    \n",
    "    # Plota a matriz de confusão\n",
    "    disp.plot(cmap=plt.cm.Blues, values_format='d')\n",
    "    \n",
    "    # Ajusta o estilo do gráfico\n",
    "    plt.xlabel('Previsões')\n",
    "    plt.ylabel('Rótulos Verdadeiros')\n",
    "    plt.title('Matriz de Confusão' + titulo_compl)\n",
    "    \n",
    "    # Exibe o gráfico\n",
    "    plt.show()"
   ],
   "metadata": {
    "collapsed": false,
    "ExecuteTime": {
     "end_time": "2023-09-25T15:24:02.444138400Z",
     "start_time": "2023-09-25T15:24:02.418764200Z"
    }
   }
  },
  {
   "cell_type": "code",
   "execution_count": 42,
   "outputs": [
    {
     "data": {
      "text/plain": "<Figure size 640x480 with 2 Axes>",
      "image/png": "[encoded data removed]"
     },
     "metadata": {},
     "output_type": "display_data"
    }
   ],
   "source": [
    "plot_confusion_matrix_lr(modelo_base, X_train, y_train, titulo_compl=' - Dados de Treino')"
   ],
   "metadata": {
    "collapsed": false,
    "ExecuteTime": {
     "end_time": "2023-09-25T15:24:03.053051100Z",
     "start_time": "2023-09-25T15:24:02.442139Z"
    }
   }
  },
  {
   "cell_type": "code",
   "execution_count": 43,
   "outputs": [
    {
     "data": {
      "text/plain": "<Figure size 640x480 with 2 Axes>",
      "image/png": "[encoded data removed]"
     },
     "metadata": {},
     "output_type": "display_data"
    }
   ],
   "source": [
    "plot_confusion_matrix_lr(modelo_base, X_test, y_test, titulo_compl=' - Dados de Teste')"
   ],
   "metadata": {
    "collapsed": false,
    "ExecuteTime": {
     "end_time": "2023-09-25T15:24:03.352405600Z",
     "start_time": "2023-09-25T15:24:02.869046600Z"
    }
   }
  },
  {
   "cell_type": "markdown",
   "metadata": {},
   "source": [
    "---\n",
    "<a id='conclusion'></a>\n",
    "## 4. Conclusão"
   ]
  },
  {
   "cell_type": "markdown",
   "metadata": {},
   "source": [
    "---\n",
    "<a id='references'></a>\n",
    "## Referências\n",
    "\n",
    "Alura - 7 Days of Code - Dados - Machine Learning: https://7daysofcode.io/matricula/machine-learning , acessado em 20/09/2023.\n",
    "\n",
    "Kaggle - Spotify Tracks Dataset: https://www.kaggle.com/datasets/maharshipandya/-spotify-tracks-datase , acessado em 21/09/2023.\n",
    "\n",
    "Linkedin - Traduzindo dados no Pandas.DataFrame() com Google Translate: https://www.linkedin.com/pulse/traduzindo-dados-pandasdataframe-com-google-translate-romerito-morais/ , acessado em 21/09/2023.\n",
    "\n",
    "HastagTreinamentos - Pandas Profiling no Python – Análise de dados rápida: https://www.hashtagtreinamentos.com/pandas-profiling-no-python-ciencia-dados , acessado em 21/09/2023."
   ]
  },
  {
   "cell_type": "markdown",
   "metadata": {},
   "source": [
    "---\n",
    "<div style=\"text-align: center\"> Copyright &copy; 2023 | Leonardo Simões | All Rights Reserved </div>\n",
    "\n",
    "---"
   ]
  }
 ],
 "metadata": {
  "kernelspec": {
   "display_name": "Python 3 (ipykernel)",
   "language": "python",
   "name": "python3"
  },
  "language_info": {
   "codemirror_mode": {
    "name": "ipython",
    "version": 3
   },
   "file_extension": ".py",
   "mimetype": "text/x-python",
   "name": "python",
   "nbconvert_exporter": "python",
   "pygments_lexer": "ipython3",
   "version": "3.11.2"
  }
 },
 "nbformat": 4,
 "nbformat_minor": 1
}
